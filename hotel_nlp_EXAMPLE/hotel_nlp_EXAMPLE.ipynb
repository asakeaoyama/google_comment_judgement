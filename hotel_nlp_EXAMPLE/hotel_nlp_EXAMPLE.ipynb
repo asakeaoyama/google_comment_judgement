{
 "cells": [
  {
   "cell_type": "code",
   "execution_count": 1,
   "id": "f75021af",
   "metadata": {},
   "outputs": [
    {
     "name": "stdout",
     "output_type": "stream",
     "text": [
      "Intel MKL WARNING: Support of Intel(R) Streaming SIMD Extensions 4.2 (Intel(R) SSE4.2) enabled only processors has been deprecated. Intel oneAPI Math Kernel Library 2025.0 will require Intel(R) Advanced Vector Extensions (Intel(R) AVX) instructions.\n",
      "Intel MKL WARNING: Support of Intel(R) Streaming SIMD Extensions 4.2 (Intel(R) SSE4.2) enabled only processors has been deprecated. Intel oneAPI Math Kernel Library 2025.0 will require Intel(R) Advanced Vector Extensions (Intel(R) AVX) instructions.\n"
     ]
    }
   ],
   "source": [
    "import pandas as pd"
   ]
  },
  {
   "cell_type": "code",
   "execution_count": 2,
   "id": "529d4f6a",
   "metadata": {},
   "outputs": [],
   "source": [
    "reviews_df_1 = pd.read_excel(\"正負無效句訓練.xlsx\")\n",
    "reviews_df_1 = reviews_df_1.iloc[1: , :]\n",
    "reviews_df_1['labels'] = reviews_df_1['Unnamed: 2'].replace({'正面':1, '負面': 0, '無效':2})\n",
    "reviews_df_1['reviews'] = reviews_df_1['Unnamed: 1']\n",
    "reviews_df_1 = reviews_df_1[['reviews', 'labels']]"
   ]
  },
  {
   "cell_type": "code",
   "execution_count": 3,
   "id": "6940960f",
   "metadata": {},
   "outputs": [],
   "source": [
    "reviews_df_2 = pd.read_excel(\"正負無效句訓練2.xlsx\")\n",
    "reviews_df_2['labels'] = reviews_df_2['0731new(0：負評，1：正評，2：無效)'].replace({'1':1, '0': 0, '2':2})\n",
    "reviews_df_2['reviews'] = reviews_df_2['comment_message']\n",
    "reviews_df_2 = reviews_df_2[['reviews', 'labels']]\n",
    "reviews_df_2 = reviews_df_2.dropna()\n",
    "reviews_df_2['labels'] = reviews_df_2['labels'].astype('int')"
   ]
  },
  {
   "cell_type": "code",
   "execution_count": 4,
   "id": "91c52761",
   "metadata": {},
   "outputs": [
    {
     "data": {
      "text/html": [
       "<div>\n",
       "<style scoped>\n",
       "    .dataframe tbody tr th:only-of-type {\n",
       "        vertical-align: middle;\n",
       "    }\n",
       "\n",
       "    .dataframe tbody tr th {\n",
       "        vertical-align: top;\n",
       "    }\n",
       "\n",
       "    .dataframe thead th {\n",
       "        text-align: right;\n",
       "    }\n",
       "</style>\n",
       "<table border=\"1\" class=\"dataframe\">\n",
       "  <thead>\n",
       "    <tr style=\"text-align: right;\">\n",
       "      <th></th>\n",
       "      <th>reviews</th>\n",
       "      <th>labels</th>\n",
       "    </tr>\n",
       "  </thead>\n",
       "  <tbody>\n",
       "    <tr>\n",
       "      <th>1</th>\n",
       "      <td>作者robinlee528 (羅賓 Robin)看板Hotel標題[心得] 台中 承億文旅-...</td>\n",
       "      <td>2</td>\n",
       "    </tr>\n",
       "    <tr>\n",
       "      <th>2</th>\n",
       "      <td>作者terry910134 (懶人愛吃喝)看板Hotel標題[心得] 屏東 承億文旅 墾丁雅...</td>\n",
       "      <td>2</td>\n",
       "    </tr>\n",
       "    <tr>\n",
       "      <th>3</th>\n",
       "      <td>作者terry910134 (懶人愛吃喝)看板Hotel標題[心得] 花蓮 承億文旅 客房硬...</td>\n",
       "      <td>0</td>\n",
       "    </tr>\n",
       "    <tr>\n",
       "      <th>4</th>\n",
       "      <td>作者yajuyeh (Shopping Heaven)看板Hotel標題[心得]『花蓮』承億...</td>\n",
       "      <td>2</td>\n",
       "    </tr>\n",
       "    <tr>\n",
       "      <th>5</th>\n",
       "      <td>作者yajuyeh (Shopping Heaven)看板Hotel標題[心得]『嘉義』承億...</td>\n",
       "      <td>2</td>\n",
       "    </tr>\n",
       "    <tr>\n",
       "      <th>...</th>\n",
       "      <td>...</td>\n",
       "      <td>...</td>\n",
       "    </tr>\n",
       "    <tr>\n",
       "      <th>847</th>\n",
       "      <td>›</td>\n",
       "      <td>2</td>\n",
       "    </tr>\n",
       "    <tr>\n",
       "      <th>848</th>\n",
       "      <td>›</td>\n",
       "      <td>2</td>\n",
       "    </tr>\n",
       "    <tr>\n",
       "      <th>849</th>\n",
       "      <td>›</td>\n",
       "      <td>2</td>\n",
       "    </tr>\n",
       "    <tr>\n",
       "      <th>850</th>\n",
       "      <td>›</td>\n",
       "      <td>2</td>\n",
       "    </tr>\n",
       "    <tr>\n",
       "      <th>851</th>\n",
       "      <td>。</td>\n",
       "      <td>2</td>\n",
       "    </tr>\n",
       "  </tbody>\n",
       "</table>\n",
       "<p>851 rows × 2 columns</p>\n",
       "</div>"
      ],
      "text/plain": [
       "                                               reviews  labels\n",
       "1    作者robinlee528 (羅賓 Robin)看板Hotel標題[心得] 台中 承億文旅-...       2\n",
       "2    作者terry910134 (懶人愛吃喝)看板Hotel標題[心得] 屏東 承億文旅 墾丁雅...       2\n",
       "3    作者terry910134 (懶人愛吃喝)看板Hotel標題[心得] 花蓮 承億文旅 客房硬...       0\n",
       "4    作者yajuyeh (Shopping Heaven)看板Hotel標題[心得]『花蓮』承億...       2\n",
       "5    作者yajuyeh (Shopping Heaven)看板Hotel標題[心得]『嘉義』承億...       2\n",
       "..                                                 ...     ...\n",
       "847                                                  ›       2\n",
       "848                                                  ›       2\n",
       "849                                                  ›       2\n",
       "850                                                  ›       2\n",
       "851                                                  。       2\n",
       "\n",
       "[851 rows x 2 columns]"
      ]
     },
     "execution_count": 4,
     "metadata": {},
     "output_type": "execute_result"
    }
   ],
   "source": [
    "reviews_df_1"
   ]
  },
  {
   "cell_type": "code",
   "execution_count": 5,
   "id": "af16dbc9",
   "metadata": {},
   "outputs": [
    {
     "data": {
      "text/html": [
       "<div>\n",
       "<style scoped>\n",
       "    .dataframe tbody tr th:only-of-type {\n",
       "        vertical-align: middle;\n",
       "    }\n",
       "\n",
       "    .dataframe tbody tr th {\n",
       "        vertical-align: top;\n",
       "    }\n",
       "\n",
       "    .dataframe thead th {\n",
       "        text-align: right;\n",
       "    }\n",
       "</style>\n",
       "<table border=\"1\" class=\"dataframe\">\n",
       "  <thead>\n",
       "    <tr style=\"text-align: right;\">\n",
       "      <th></th>\n",
       "      <th>reviews</th>\n",
       "      <th>labels</th>\n",
       "    </tr>\n",
       "  </thead>\n",
       "  <tbody>\n",
       "    <tr>\n",
       "      <th>0</th>\n",
       "      <td>請問住宿優惠只能實體購買嗎？謝謝</td>\n",
       "      <td>2</td>\n",
       "    </tr>\n",
       "    <tr>\n",
       "      <th>1</th>\n",
       "      <td>請問餐券是紙本的嗎？</td>\n",
       "      <td>2</td>\n",
       "    </tr>\n",
       "    <tr>\n",
       "      <th>2</th>\n",
       "      <td>超期待😚！</td>\n",
       "      <td>1</td>\n",
       "    </tr>\n",
       "    <tr>\n",
       "      <th>3</th>\n",
       "      <td>倒數三天😍</td>\n",
       "      <td>2</td>\n",
       "    </tr>\n",
       "    <tr>\n",
       "      <th>4</th>\n",
       "      <td>好有藝術氣息</td>\n",
       "      <td>1</td>\n",
       "    </tr>\n",
       "    <tr>\n",
       "      <th>...</th>\n",
       "      <td>...</td>\n",
       "      <td>...</td>\n",
       "    </tr>\n",
       "    <tr>\n",
       "      <th>4259</th>\n",
       "      <td>0</td>\n",
       "      <td>2</td>\n",
       "    </tr>\n",
       "    <tr>\n",
       "      <th>4264</th>\n",
       "      <td>0</td>\n",
       "      <td>2</td>\n",
       "    </tr>\n",
       "    <tr>\n",
       "      <th>4265</th>\n",
       "      <td>蘇家榆 我想去 我想去</td>\n",
       "      <td>2</td>\n",
       "    </tr>\n",
       "    <tr>\n",
       "      <th>4266</th>\n",
       "      <td>Marie Liu Rita Lin 走了啦～一起來住有全球唯一高空懸挑無邊際泳池的高雄承億酒店😍</td>\n",
       "      <td>1</td>\n",
       "    </tr>\n",
       "    <tr>\n",
       "      <th>4267</th>\n",
       "      <td>對於嚴重損害Norin著作權，台中鳳凰酒店指出，將撤除親子客房壁紙，同時要求承包業者向Nor...</td>\n",
       "      <td>0</td>\n",
       "    </tr>\n",
       "  </tbody>\n",
       "</table>\n",
       "<p>3071 rows × 2 columns</p>\n",
       "</div>"
      ],
      "text/plain": [
       "                                                reviews  labels\n",
       "0                                      請問住宿優惠只能實體購買嗎？謝謝       2\n",
       "1                                            請問餐券是紙本的嗎？       2\n",
       "2                                                 超期待😚！       1\n",
       "3                                                 倒數三天😍       2\n",
       "4                                                好有藝術氣息       1\n",
       "...                                                 ...     ...\n",
       "4259                                                  0       2\n",
       "4264                                                  0       2\n",
       "4265                                        蘇家榆 我想去 我想去       2\n",
       "4266  Marie Liu Rita Lin 走了啦～一起來住有全球唯一高空懸挑無邊際泳池的高雄承億酒店😍       1\n",
       "4267  對於嚴重損害Norin著作權，台中鳳凰酒店指出，將撤除親子客房壁紙，同時要求承包業者向Nor...       0\n",
       "\n",
       "[3071 rows x 2 columns]"
      ]
     },
     "execution_count": 5,
     "metadata": {},
     "output_type": "execute_result"
    }
   ],
   "source": [
    "reviews_df_2"
   ]
  },
  {
   "cell_type": "code",
   "execution_count": 6,
   "id": "571a66d6",
   "metadata": {},
   "outputs": [
    {
     "data": {
      "text/plain": [
       "(851, 2)"
      ]
     },
     "execution_count": 6,
     "metadata": {},
     "output_type": "execute_result"
    }
   ],
   "source": [
    "reviews_df_1.shape"
   ]
  },
  {
   "cell_type": "code",
   "execution_count": 7,
   "id": "be989ac5",
   "metadata": {},
   "outputs": [
    {
     "data": {
      "text/plain": [
       "reviews    object\n",
       "labels      int64\n",
       "dtype: object"
      ]
     },
     "execution_count": 7,
     "metadata": {},
     "output_type": "execute_result"
    }
   ],
   "source": [
    "reviews_df_1.dtypes"
   ]
  },
  {
   "cell_type": "code",
   "execution_count": 8,
   "id": "8950c854",
   "metadata": {},
   "outputs": [
    {
     "data": {
      "text/plain": [
       "(3071, 2)"
      ]
     },
     "execution_count": 8,
     "metadata": {},
     "output_type": "execute_result"
    }
   ],
   "source": [
    "reviews_df_2.shape"
   ]
  },
  {
   "cell_type": "code",
   "execution_count": 9,
   "id": "d6761de2",
   "metadata": {},
   "outputs": [
    {
     "data": {
      "text/plain": [
       "reviews    object\n",
       "labels      int64\n",
       "dtype: object"
      ]
     },
     "execution_count": 9,
     "metadata": {},
     "output_type": "execute_result"
    }
   ],
   "source": [
    "reviews_df_2.dtypes"
   ]
  },
  {
   "cell_type": "code",
   "execution_count": 10,
   "id": "6109f8e2",
   "metadata": {},
   "outputs": [],
   "source": [
    "reviews_df=pd.concat([reviews_df_1,reviews_df_2])"
   ]
  },
  {
   "cell_type": "code",
   "execution_count": 15,
   "id": "165805b0",
   "metadata": {},
   "outputs": [
    {
     "data": {
      "text/plain": [
       "reviews    object\n",
       "labels      int64\n",
       "dtype: object"
      ]
     },
     "execution_count": 15,
     "metadata": {},
     "output_type": "execute_result"
    }
   ],
   "source": [
    "reviews_df.dtypes"
   ]
  },
  {
   "cell_type": "code",
   "execution_count": 11,
   "id": "fef48e76",
   "metadata": {},
   "outputs": [
    {
     "data": {
      "text/plain": [
       "<Axes: >"
      ]
     },
     "execution_count": 11,
     "metadata": {},
     "output_type": "execute_result"
    },
    {
     "data": {
      "image/png": "[encoded data removed]",
      "text/plain": [
       "<Figure size 640x480 with 1 Axes>"
      ]
     },
     "metadata": {},
     "output_type": "display_data"
    }
   ],
   "source": [
    "reviews_df['labels'].value_counts().plot(kind='bar')"
   ]
  },
  {
   "cell_type": "code",
   "execution_count": 12,
   "id": "bd104bc5",
   "metadata": {},
   "outputs": [
    {
     "data": {
      "text/plain": [
       "(324, 2)"
      ]
     },
     "execution_count": 12,
     "metadata": {},
     "output_type": "execute_result"
    }
   ],
   "source": [
    "bad_df = reviews_df[reviews_df['labels'] ==0]\n",
    "bad_df.shape"
   ]
  },
  {
   "cell_type": "code",
   "execution_count": 13,
   "id": "c8623942",
   "metadata": {},
   "outputs": [
    {
     "data": {
      "text/plain": [
       "(1648, 2)"
      ]
     },
     "execution_count": 13,
     "metadata": {},
     "output_type": "execute_result"
    }
   ],
   "source": [
    "good_df = reviews_df[reviews_df['labels'] ==1]\n",
    "good_df.shape"
   ]
  },
  {
   "cell_type": "code",
   "execution_count": 14,
   "id": "64adff90",
   "metadata": {},
   "outputs": [
    {
     "data": {
      "text/plain": [
       "(1950, 2)"
      ]
     },
     "execution_count": 14,
     "metadata": {},
     "output_type": "execute_result"
    }
   ],
   "source": [
    "invalid_df = reviews_df[reviews_df['labels'] ==2]\n",
    "invalid_df.shape"
   ]
  },
  {
   "cell_type": "code",
   "execution_count": 16,
   "id": "e6995ec1",
   "metadata": {},
   "outputs": [],
   "source": [
    "from sklearn.model_selection import train_test_split\n",
    "train_df, test_df = train_test_split(reviews_df, test_size = 0.2, random_state = 927)"
   ]
  },
  {
   "cell_type": "code",
   "execution_count": 17,
   "id": "8f01c982",
   "metadata": {},
   "outputs": [
    {
     "data": {
      "text/html": [
       "<div>\n",
       "<style scoped>\n",
       "    .dataframe tbody tr th:only-of-type {\n",
       "        vertical-align: middle;\n",
       "    }\n",
       "\n",
       "    .dataframe tbody tr th {\n",
       "        vertical-align: top;\n",
       "    }\n",
       "\n",
       "    .dataframe thead th {\n",
       "        text-align: right;\n",
       "    }\n",
       "</style>\n",
       "<table border=\"1\" class=\"dataframe\">\n",
       "  <thead>\n",
       "    <tr style=\"text-align: right;\">\n",
       "      <th></th>\n",
       "      <th>reviews</th>\n",
       "      <th>labels</th>\n",
       "    </tr>\n",
       "  </thead>\n",
       "  <tbody>\n",
       "    <tr>\n",
       "      <th>843</th>\n",
       "      <td>›</td>\n",
       "      <td>2</td>\n",
       "    </tr>\n",
       "    <tr>\n",
       "      <th>523</th>\n",
       "      <td>Artem Is</td>\n",
       "      <td>2</td>\n",
       "    </tr>\n",
       "    <tr>\n",
       "      <th>223</th>\n",
       "      <td>看成休假上班，想說這麼熱血嗎😂😂</td>\n",
       "      <td>2</td>\n",
       "    </tr>\n",
       "    <tr>\n",
       "      <th>1000</th>\n",
       "      <td>王維碩 gogo</td>\n",
       "      <td>1</td>\n",
       "    </tr>\n",
       "    <tr>\n",
       "      <th>4241</th>\n",
       "      <td>0</td>\n",
       "      <td>0</td>\n",
       "    </tr>\n",
       "    <tr>\n",
       "      <th>...</th>\n",
       "      <td>...</td>\n",
       "      <td>...</td>\n",
       "    </tr>\n",
       "    <tr>\n",
       "      <th>35</th>\n",
       "      <td>詳細圖文網誌：https://alina28.pixnet.net/blog/post/47...</td>\n",
       "      <td>2</td>\n",
       "    </tr>\n",
       "    <tr>\n",
       "      <th>278</th>\n",
       "      <td>嘉義舊市區蠻適合騎腳踏車的，騎著腳踏車去找美食很方便，飯店可提供租借喔。</td>\n",
       "      <td>1</td>\n",
       "    </tr>\n",
       "    <tr>\n",
       "      <th>449</th>\n",
       "      <td>訂金只能用ATM匯款很不方便欸</td>\n",
       "      <td>0</td>\n",
       "    </tr>\n",
       "    <tr>\n",
       "      <th>1046</th>\n",
       "      <td>周邵錩 我覺得答案是墾丁丶南投丶嘉義丶淡水</td>\n",
       "      <td>2</td>\n",
       "    </tr>\n",
       "    <tr>\n",
       "      <th>313</th>\n",
       "      <td>洲際的有熱風罩，承億也有嗎?</td>\n",
       "      <td>2</td>\n",
       "    </tr>\n",
       "  </tbody>\n",
       "</table>\n",
       "<p>3137 rows × 2 columns</p>\n",
       "</div>"
      ],
      "text/plain": [
       "                                                reviews  labels\n",
       "843                                                   ›       2\n",
       "523                                            Artem Is       2\n",
       "223                                    看成休假上班，想說這麼熱血嗎😂😂       2\n",
       "1000                                           王維碩 gogo       1\n",
       "4241                                                  0       0\n",
       "...                                                 ...     ...\n",
       "35    詳細圖文網誌：https://alina28.pixnet.net/blog/post/47...       2\n",
       "278                嘉義舊市區蠻適合騎腳踏車的，騎著腳踏車去找美食很方便，飯店可提供租借喔。       1\n",
       "449                                     訂金只能用ATM匯款很不方便欸       0\n",
       "1046                              周邵錩 我覺得答案是墾丁丶南投丶嘉義丶淡水       2\n",
       "313                                      洲際的有熱風罩，承億也有嗎?       2\n",
       "\n",
       "[3137 rows x 2 columns]"
      ]
     },
     "execution_count": 17,
     "metadata": {},
     "output_type": "execute_result"
    }
   ],
   "source": [
    "train_df"
   ]
  },
  {
   "cell_type": "code",
   "execution_count": 18,
   "id": "5ff708af",
   "metadata": {},
   "outputs": [
    {
     "data": {
      "text/html": [
       "<div>\n",
       "<style scoped>\n",
       "    .dataframe tbody tr th:only-of-type {\n",
       "        vertical-align: middle;\n",
       "    }\n",
       "\n",
       "    .dataframe tbody tr th {\n",
       "        vertical-align: top;\n",
       "    }\n",
       "\n",
       "    .dataframe thead th {\n",
       "        text-align: right;\n",
       "    }\n",
       "</style>\n",
       "<table border=\"1\" class=\"dataframe\">\n",
       "  <thead>\n",
       "    <tr style=\"text-align: right;\">\n",
       "      <th></th>\n",
       "      <th>reviews</th>\n",
       "      <th>labels</th>\n",
       "    </tr>\n",
       "  </thead>\n",
       "  <tbody>\n",
       "    <tr>\n",
       "      <th>725</th>\n",
       "      <td>陳宥碩冠軍賽要不要訂一下</td>\n",
       "      <td>2</td>\n",
       "    </tr>\n",
       "    <tr>\n",
       "      <th>3934</th>\n",
       "      <td>請問住宿劵，寒暑假一到四使用，是否另外加價？</td>\n",
       "      <td>2</td>\n",
       "    </tr>\n",
       "    <tr>\n",
       "      <th>2932</th>\n",
       "      <td>李祈慧 江庭瑩 一起來捕捉承億吧！</td>\n",
       "      <td>2</td>\n",
       "    </tr>\n",
       "    <tr>\n",
       "      <th>3683</th>\n",
       "      <td>抽！</td>\n",
       "      <td>2</td>\n",
       "    </tr>\n",
       "    <tr>\n",
       "      <th>2640</th>\n",
       "      <td>好美，餐點也看起來很厲害</td>\n",
       "      <td>1</td>\n",
       "    </tr>\n",
       "    <tr>\n",
       "      <th>...</th>\n",
       "      <td>...</td>\n",
       "      <td>...</td>\n",
       "    </tr>\n",
       "    <tr>\n",
       "      <th>2092</th>\n",
       "      <td>很好吃，不過上次去吃第一輪就感覺沒在補了，很失望@@</td>\n",
       "      <td>1</td>\n",
       "    </tr>\n",
       "    <tr>\n",
       "      <th>3106</th>\n",
       "      <td>汪麥可</td>\n",
       "      <td>2</td>\n",
       "    </tr>\n",
       "    <tr>\n",
       "      <th>938</th>\n",
       "      <td>李瑋萱【一起來去承億，一秒穿越到北宋！】</td>\n",
       "      <td>1</td>\n",
       "    </tr>\n",
       "    <tr>\n",
       "      <th>28</th>\n",
       "      <td>※ 編輯: kevin1213 (118.167.137.110 臺灣), 05/09/20...</td>\n",
       "      <td>2</td>\n",
       "    </tr>\n",
       "    <tr>\n",
       "      <th>298</th>\n",
       "      <td>承億文旅-墾丁雅客小半島位置極佳，就在墾丁大街上，晚上出門就可以逛。</td>\n",
       "      <td>1</td>\n",
       "    </tr>\n",
       "  </tbody>\n",
       "</table>\n",
       "<p>785 rows × 2 columns</p>\n",
       "</div>"
      ],
      "text/plain": [
       "                                                reviews  labels\n",
       "725                                        陳宥碩冠軍賽要不要訂一下       2\n",
       "3934                             請問住宿劵，寒暑假一到四使用，是否另外加價？       2\n",
       "2932                                  李祈慧 江庭瑩 一起來捕捉承億吧！       2\n",
       "3683                                                 抽！       2\n",
       "2640                                       好美，餐點也看起來很厲害       1\n",
       "...                                                 ...     ...\n",
       "2092                         很好吃，不過上次去吃第一輪就感覺沒在補了，很失望@@       1\n",
       "3106                                                汪麥可       2\n",
       "938                                李瑋萱【一起來去承億，一秒穿越到北宋！】       1\n",
       "28    ※ 編輯: kevin1213 (118.167.137.110 臺灣), 05/09/20...       2\n",
       "298                  承億文旅-墾丁雅客小半島位置極佳，就在墾丁大街上，晚上出門就可以逛。       1\n",
       "\n",
       "[785 rows x 2 columns]"
      ]
     },
     "execution_count": 18,
     "metadata": {},
     "output_type": "execute_result"
    }
   ],
   "source": [
    "test_df"
   ]
  },
  {
   "cell_type": "code",
   "execution_count": 19,
   "id": "ef364368",
   "metadata": {
    "scrolled": true
   },
   "outputs": [
    {
     "name": "stderr",
     "output_type": "stream",
     "text": [
      "Some weights of the model checkpoint at hfl/chinese-bert-wwm-ext were not used when initializing BertForSequenceClassification: ['cls.predictions.transform.LayerNorm.bias', 'cls.seq_relationship.weight', 'cls.predictions.bias', 'cls.predictions.transform.dense.bias', 'cls.predictions.transform.dense.weight', 'cls.seq_relationship.bias', 'cls.predictions.decoder.weight', 'cls.predictions.transform.LayerNorm.weight']\n",
      "- This IS expected if you are initializing BertForSequenceClassification from the checkpoint of a model trained on another task or with another architecture (e.g. initializing a BertForSequenceClassification model from a BertForPreTraining model).\n",
      "- This IS NOT expected if you are initializing BertForSequenceClassification from the checkpoint of a model that you expect to be exactly identical (initializing a BertForSequenceClassification model from a BertForSequenceClassification model).\n",
      "Some weights of BertForSequenceClassification were not initialized from the model checkpoint at hfl/chinese-bert-wwm-ext and are newly initialized: ['classifier.bias', 'classifier.weight']\n",
      "You should probably TRAIN this model on a down-stream task to be able to use it for predictions and inference.\n",
      "/Users/jordanfan/opt/anaconda3/envs/simpletransformers/lib/python3.11/site-packages/simpletransformers/classification/classification_model.py:612: UserWarning: Dataframe headers not specified. Falling back to using column 0 as text and column 1 as labels.\n",
      "  warnings.warn(\n"
     ]
    },
    {
     "data": {
      "application/vnd.jupyter.widget-view+json": {
       "model_id": "fa05255c4afd4e1eba56f1de335ba27c",
       "version_major": 2,
       "version_minor": 0
      },
      "text/plain": [
       "  0%|          | 0/3137 [00:00<?, ?it/s]"
      ]
     },
     "metadata": {},
     "output_type": "display_data"
    },
    {
     "name": "stdout",
     "output_type": "stream",
     "text": [
      "Intel MKL WARNING: Support of Intel(R) Streaming SIMD Extensions 4.2 (Intel(R) SSE4.2) enabled only processors has been deprecated. Intel oneAPI Math Kernel Library 2025.0 will require Intel(R) Advanced Vector Extensions (Intel(R) AVX) instructions.\n",
      "Intel MKL WARNING: Support of Intel(R) Streaming SIMD Extensions 4.2 (Intel(R) SSE4.2) enabled only processors has been deprecated. Intel oneAPI Math Kernel Library 2025.0 will require Intel(R) Advanced Vector Extensions (Intel(R) AVX) instructions.\n",
      "Intel MKL WARNING: Support of Intel(R) Streaming SIMD Extensions 4.2 (Intel(R) SSE4.2) enabled only processors has been deprecated. Intel oneAPI Math Kernel Library 2025.0 will require Intel(R) Advanced Vector Extensions (Intel(R) AVX) instructions.\n",
      "Intel MKL WARNING: Support of Intel(R) Streaming SIMD Extensions 4.2 (Intel(R) SSE4.2) enabled only processors has been deprecated. Intel oneAPI Math Kernel Library 2025.0 will require Intel(R) Advanced Vector Extensions (Intel(R) AVX) instructions.\n",
      "Intel MKL WARNING: Support of Intel(R) Streaming SIMD Extensions 4.2 (Intel(R) SSE4.2) enabled only processors has been deprecated. Intel oneAPI Math Kernel Library 2025.0 will require Intel(R) Advanced Vector Extensions (Intel(R) AVX) instructions.\n",
      "Intel MKL WARNING: Support of Intel(R) Streaming SIMD Extensions 4.2 (Intel(R) SSE4.2) enabled only processors has been deprecated. Intel oneAPI Math Kernel Library 2025.0 will require Intel(R) Advanced Vector Extensions (Intel(R) AVX) instructions.\n",
      "Intel MKL WARNING: Support of Intel(R) Streaming SIMD Extensions 4.2 (Intel(R) SSE4.2) enabled only processors has been deprecated. Intel oneAPI Math Kernel Library 2025.0 will require Intel(R) Advanced Vector Extensions (Intel(R) AVX) instructions.\n",
      "Intel MKL WARNING: Support of Intel(R) Streaming SIMD Extensions 4.2 (Intel(R) SSE4.2) enabled only processors has been deprecated. Intel oneAPI Math Kernel Library 2025.0 will require Intel(R) Advanced Vector Extensions (Intel(R) AVX) instructions.\n",
      "Intel MKL WARNING: Support of Intel(R) Streaming SIMD Extensions 4.2 (Intel(R) SSE4.2) enabled only processors has been deprecated. Intel oneAPI Math Kernel Library 2025.0 will require Intel(R) Advanced Vector Extensions (Intel(R) AVX) instructions.\n",
      "Intel MKL WARNING: Support of Intel(R) Streaming SIMD Extensions 4.2 (Intel(R) SSE4.2) enabled only processors has been deprecated. Intel oneAPI Math Kernel Library 2025.0 will require Intel(R) Advanced Vector Extensions (Intel(R) AVX) instructions.\n",
      "Intel MKL WARNING: Support of Intel(R) Streaming SIMD Extensions 4.2 (Intel(R) SSE4.2) enabled only processors has been deprecated. Intel oneAPI Math Kernel Library 2025.0 will require Intel(R) Advanced Vector Extensions (Intel(R) AVX) instructions.\n",
      "Intel MKL WARNING: Support of Intel(R) Streaming SIMD Extensions 4.2 (Intel(R) SSE4.2) enabled only processors has been deprecated. Intel oneAPI Math Kernel Library 2025.0 will require Intel(R) Advanced Vector Extensions (Intel(R) AVX) instructions.\n",
      "Intel MKL WARNING: Support of Intel(R) Streaming SIMD Extensions 4.2 (Intel(R) SSE4.2) enabled only processors has been deprecated. Intel oneAPI Math Kernel Library 2025.0 will require Intel(R) Advanced Vector Extensions (Intel(R) AVX) instructions.\n",
      "Intel MKL WARNING: Support of Intel(R) Streaming SIMD Extensions 4.2 (Intel(R) SSE4.2) enabled only processors has been deprecated. Intel oneAPI Math Kernel Library 2025.0 will require Intel(R) Advanced Vector Extensions (Intel(R) AVX) instructions.\n",
      "huggingface/tokenizers: The current process just got forked, after parallelism has already been used. Disabling parallelism to avoid deadlocks...\n",
      "To disable this warning, you can either:\n",
      "\t- Avoid using `tokenizers` before the fork if possible\n",
      "\t- Explicitly set the environment variable TOKENIZERS_PARALLELISM=(true | false)\n",
      "huggingface/tokenizers: The current process just got forked, after parallelism has already been used. Disabling parallelism to avoid deadlocks...\n",
      "To disable this warning, you can either:\n",
      "\t- Avoid using `tokenizers` before the fork if possible\n",
      "\t- Explicitly set the environment variable TOKENIZERS_PARALLELISM=(true | false)\n",
      "huggingface/tokenizers: The current process just got forked, after parallelism has already been used. Disabling parallelism to avoid deadlocks...\n",
      "To disable this warning, you can either:\n",
      "\t- Avoid using `tokenizers` before the fork if possible\n",
      "\t- Explicitly set the environment variable TOKENIZERS_PARALLELISM=(true | false)\n",
      "huggingface/tokenizers: The current process just got forked, after parallelism has already been used. Disabling parallelism to avoid deadlocks...\n",
      "To disable this warning, you can either:\n",
      "\t- Avoid using `tokenizers` before the fork if possible\n",
      "\t- Explicitly set the environment variable TOKENIZERS_PARALLELISM=(true | false)\n",
      "huggingface/tokenizers: The current process just got forked, after parallelism has already been used. Disabling parallelism to avoid deadlocks...\n",
      "To disable this warning, you can either:\n",
      "\t- Avoid using `tokenizers` before the fork if possible\n",
      "\t- Explicitly set the environment variable TOKENIZERS_PARALLELISM=(true | false)\n",
      "huggingface/tokenizers: The current process just got forked, after parallelism has already been used. Disabling parallelism to avoid deadlocks...\n",
      "To disable this warning, you can either:\n",
      "\t- Avoid using `tokenizers` before the fork if possible\n",
      "\t- Explicitly set the environment variable TOKENIZERS_PARALLELISM=(true | false)\n",
      "huggingface/tokenizers: The current process just got forked, after parallelism has already been used. Disabling parallelism to avoid deadlocks...\n",
      "To disable this warning, you can either:\n",
      "\t- Avoid using `tokenizers` before the fork if possible\n",
      "\t- Explicitly set the environment variable TOKENIZERS_PARALLELISM=(true | false)\n"
     ]
    },
    {
     "data": {
      "application/vnd.jupyter.widget-view+json": {
       "model_id": "54f2a52f141b499396ca92d84f73fccc",
       "version_major": 2,
       "version_minor": 0
      },
      "text/plain": [
       "Epoch:   0%|          | 0/1 [00:00<?, ?it/s]"
      ]
     },
     "metadata": {},
     "output_type": "display_data"
    },
    {
     "data": {
      "application/vnd.jupyter.widget-view+json": {
       "model_id": "70a705289ef34af9b631d888bcceabd0",
       "version_major": 2,
       "version_minor": 0
      },
      "text/plain": [
       "Running Epoch 0 of 1:   0%|          | 0/393 [00:00<?, ?it/s]"
      ]
     },
     "metadata": {},
     "output_type": "display_data"
    },
    {
     "name": "stdout",
     "output_type": "stream",
     "text": [
      "Intel MKL WARNING: Support of Intel(R) Streaming SIMD Extensions 4.2 (Intel(R) SSE4.2) enabled only processors has been deprecated. Intel oneAPI Math Kernel Library 2025.0 will require Intel(R) Advanced Vector Extensions (Intel(R) AVX) instructions.\n"
     ]
    },
    {
     "data": {
      "text/plain": [
       "(393, 0.5273166339721237)"
      ]
     },
     "execution_count": 19,
     "metadata": {},
     "output_type": "execute_result"
    }
   ],
   "source": [
    "from simpletransformers.classification import ClassificationModel\n",
    "#?ClassificationModel\n",
    "model = ClassificationModel('bert', 'hfl/chinese-bert-wwm-ext', num_labels=3, use_cuda=False)\n",
    "model.train_model(train_df, args = {'overwrite_output_dir': False})"
   ]
  },
  {
   "cell_type": "code",
   "execution_count": 20,
   "id": "1611c053",
   "metadata": {},
   "outputs": [
    {
     "name": "stderr",
     "output_type": "stream",
     "text": [
      "/Users/jordanfan/opt/anaconda3/envs/simpletransformers/lib/python3.11/site-packages/simpletransformers/classification/classification_model.py:1454: UserWarning: Dataframe headers not specified. Falling back to using column 0 as text and column 1 as labels.\n",
      "  warnings.warn(\n"
     ]
    },
    {
     "data": {
      "application/vnd.jupyter.widget-view+json": {
       "model_id": "9a231cc4e76046e3bf967697d56f1f4e",
       "version_major": 2,
       "version_minor": 0
      },
      "text/plain": [
       "  0%|          | 0/785 [00:00<?, ?it/s]"
      ]
     },
     "metadata": {},
     "output_type": "display_data"
    },
    {
     "name": "stdout",
     "output_type": "stream",
     "text": [
      "Intel MKL WARNING: Support of Intel(R) Streaming SIMD Extensions 4.2 (Intel(R) SSE4.2) enabled only processors has been deprecated. Intel oneAPI Math Kernel Library 2025.0 will require Intel(R) Advanced Vector Extensions (Intel(R) AVX) instructions.\n",
      "Intel MKL WARNING: Support of Intel(R) Streaming SIMD Extensions 4.2 (Intel(R) SSE4.2) enabled only processors has been deprecated. Intel oneAPI Math Kernel Library 2025.0 will require Intel(R) Advanced Vector Extensions (Intel(R) AVX) instructions.\n",
      "Intel MKL WARNING: Support of Intel(R) Streaming SIMD Extensions 4.2 (Intel(R) SSE4.2) enabled only processors has been deprecated. Intel oneAPI Math Kernel Library 2025.0 will require Intel(R) Advanced Vector Extensions (Intel(R) AVX) instructions.\n",
      "Intel MKL WARNING: Support of Intel(R) Streaming SIMD Extensions 4.2 (Intel(R) SSE4.2) enabled only processors has been deprecated. Intel oneAPI Math Kernel Library 2025.0 will require Intel(R) Advanced Vector Extensions (Intel(R) AVX) instructions.\n",
      "huggingface/tokenizers: The current process just got forked, after parallelism has already been used. Disabling parallelism to avoid deadlocks...\n",
      "To disable this warning, you can either:\n",
      "\t- Avoid using `tokenizers` before the fork if possible\n",
      "\t- Explicitly set the environment variable TOKENIZERS_PARALLELISM=(true | false)\n",
      "huggingface/tokenizers: The current process just got forked, after parallelism has already been used. Disabling parallelism to avoid deadlocks...\n",
      "To disable this warning, you can either:\n",
      "\t- Avoid using `tokenizers` before the fork if possible\n",
      "\t- Explicitly set the environment variable TOKENIZERS_PARALLELISM=(true | false)\n"
     ]
    },
    {
     "data": {
      "application/vnd.jupyter.widget-view+json": {
       "model_id": "069b055e874a405d9fdb66c38e8aed4b",
       "version_major": 2,
       "version_minor": 0
      },
      "text/plain": [
       "Running Evaluation:   0%|          | 0/99 [00:00<?, ?it/s]"
      ]
     },
     "metadata": {},
     "output_type": "display_data"
    },
    {
     "data": {
      "text/plain": [
       "{'mcc': 0.7010817120218074, 'eval_loss': 0.4396804814048187}"
      ]
     },
     "execution_count": 20,
     "metadata": {},
     "output_type": "execute_result"
    }
   ],
   "source": [
    "result, model_output, wrong_predictions = model.eval_model(test_df)\n",
    "result"
   ]
  },
  {
   "cell_type": "code",
   "execution_count": 21,
   "id": "6c15f28a",
   "metadata": {},
   "outputs": [
    {
     "data": {
      "text/plain": [
       "[{'guid': 2, 'text_a': '李祈慧 江庭瑩 一起來捕捉承億吧！', 'text_b': None, 'label': 2},\n",
       " {'guid': 10, 'text_a': '8/2號 訂房 到現在  請問 訂金 到底要確認收到沒???????????????', 'text_b': None, 'label': 0},\n",
       " {'guid': 15, 'text_a': '8888 debug大隊', 'text_b': None, 'label': 1},\n",
       " {'guid': 21, 'text_a': '我等了一百多天了呢', 'text_b': None, 'label': 2},\n",
       " {'guid': 41, 'text_a': '哪天哪天😍😍😍', 'text_b': None, 'label': 1},\n",
       " {'guid': 49, 'text_a': '🥰', 'text_b': None, 'label': 2},\n",
       " {'guid': 78, 'text_a': '我也是周一吃早餐的', 'text_b': None, 'label': 2},\n",
       " {'guid': 80, 'text_a': '懷舊老街', 'text_b': None, 'label': 1},\n",
       " {'guid': 85, 'text_a': '陳楷鏞 好想去 好想去', 'text_b': None, 'label': 1},\n",
       " {'guid': 91, 'text_a': '想請教 近期住過這兩間的版友們的住宿經驗如何？ 或者版友們的其他建議如何？', 'text_b': None, 'label': 0},\n",
       " {'guid': 95, 'text_a': '歡迎落腳高雄', 'text_b': None, 'label': 2},\n",
       " {'guid': 99, 'text_a': '非常期待，吃喝玩樂食宿超方便', 'text_b': None, 'label': 2},\n",
       " {'guid': 100, 'text_a': '[心得] 花蓮 承億輕旅花蓮館 近花蓮火車站 - 看板 Hotel - 批踢踢實業坊', 'text_b': None, 'label': 1},\n",
       " {'guid': 102, 'text_a': '可惜沒機會入住 因為少了想一起入住的人', 'text_b': None, 'label': 1},\n",
       " {'guid': 104, 'text_a': '沒有找人開箱,沒把握', 'text_b': None, 'label': 2},\n",
       " {'guid': 105, 'text_a': '最近因為社群炸鍋才知道青鳥飛走哈', 'text_b': None, 'label': 2},\n",
       " {'guid': 115, 'text_a': '聖誕快樂🎄', 'text_b': None, 'label': 1},\n",
       " {'guid': 133, 'text_a': 'Debbie Hsu 王維君  超值房優惠夕陽陪伴遠挑高雄港.......❤', 'text_b': None, 'label': 2},\n",
       " {'guid': 153, 'text_a': '以後就去那邊看電影了', 'text_b': None, 'label': 2},\n",
       " {'guid': 154, 'text_a': '黃宥晴  我們一起背包旅遊住承億酒店 ，Go！', 'text_b': None, 'label': 2},\n",
       " {'guid': 156, 'text_a': '等好久了～但！沒搶到BlackPink🥹', 'text_b': None, 'label': 0},\n",
       " {'guid': 161, 'text_a': '回覆還是繼續推給底層員工', 'text_b': None, 'label': 2},\n",
       " {'guid': 166, 'text_a': '艾旺蕾  【一起來去承億，一秒穿越到北宋！】', 'text_b': None, 'label': 1},\n",
       " {'guid': 170, 'text_a': '公共蘋果電腦', 'text_b': None, 'label': 1},\n",
       " {'guid': 180, 'text_a': '2023 Happy New Year🥳🍺', 'text_b': None, 'label': 1},\n",
       " {'guid': 181, 'text_a': '竇芝卿11月開幕', 'text_b': None, 'label': 1},\n",
       " {'guid': 182, 'text_a': '等待', 'text_b': None, 'label': 2},\n",
       " {'guid': 184, 'text_a': '好貴喔，那有純住房的價錢嗎？', 'text_b': None, 'label': 0},\n",
       " {'guid': 187, 'text_a': 'Chi Hong Su 衝一波！', 'text_b': None, 'label': 1},\n",
       " {'guid': 191, 'text_a': '李有為   【一起來去承億，一秒穿越到北宋！】', 'text_b': None, 'label': 1},\n",
       " {'guid': 198, 'text_a': '名字都好有趣', 'text_b': None, 'label': 2},\n",
       " {'guid': 200, 'text_a': '還有茶包！☺️☺️☺️', 'text_b': None, 'label': 2},\n",
       " {'guid': 201, 'text_a': '以訂購', 'text_b': None, 'label': 1},\n",
       " {'guid': 204, 'text_a': '歡迎落腳高雄', 'text_b': None, 'label': 2},\n",
       " {'guid': 206, 'text_a': '雖說是承億文旅系列飯店，不過每家的特色都不相同，', 'text_b': None, 'label': 1},\n",
       " {'guid': 212, 'text_a': 'Jimmy Wu 陳盈竹  在0：34時看到我要去那邊玩', 'text_b': None, 'label': 2},\n",
       " {'guid': 215, 'text_a': '李雅萍 黃勝慧 一起來捕捉承億吧！', 'text_b': None, 'label': 2},\n",
       " {'guid': 223, 'text_a': '我有去現場看過🙂', 'text_b': None, 'label': 2},\n",
       " {'guid': 226, 'text_a': '陳俞臻你去看看🤣🤣🤣', 'text_b': None, 'label': 2},\n",
       " {'guid': 230, 'text_a': '杜小花 我們一起去住承億酒店~~ \\u200b', 'text_b': None, 'label': 2},\n",
       " {'guid': 231, 'text_a': '新年快樂🎊🎆🎈', 'text_b': None, 'label': 1},\n",
       " {'guid': 234, 'text_a': '開心  中獎了~ 電話以為是詐騙 哈哈', 'text_b': None, 'label': 2},\n",
       " {'guid': 240, 'text_a': '我要申訴貴公司的員工', 'text_b': None, 'label': 2},\n",
       " {'guid': 241, 'text_a': '網站掛點', 'text_b': None, 'label': 0},\n",
       " {'guid': 242, 'text_a': '個人覺得算吃粗飽，美味與精緻程度還需加強。', 'text_b': None, 'label': 0},\n",
       " {'guid': 266, 'text_a': '強運如我，一定能抽中1元吧！', 'text_b': None, 'label': 2},\n",
       " {'guid': 268, 'text_a': '完全霸制今年選票！', 'text_b': None, 'label': 1},\n",
       " {'guid': 275, 'text_a': '【我已投最美都會飯店給承億酒店，我的投票流水編號是3428192】 Chou Jon', 'text_b': None, 'label': 1},\n",
       " {'guid': 281, 'text_a': 'Lydia Lee 【一起來去承億，一秒穿越到北宋！】', 'text_b': None, 'label': 1},\n",
       " {'guid': 283, 'text_a': '看我神預測阿根廷隊得冠軍，來去承億享美食', 'text_b': None, 'label': 1},\n",
       " {'guid': 284, 'text_a': '陳小美 Jiäñ Nän Li 希望高雄人入住可以再給優惠😁', 'text_b': None, 'label': 1},\n",
       " {'guid': 289, 'text_a': 'Ling Hsiao 準備一下喔', 'text_b': None, 'label': 1},\n",
       " {'guid': 302, 'text_a': '馬桶在房間的正中間啊XD', 'text_b': None, 'label': 0},\n",
       " {'guid': 303, 'text_a': '我有去現場看過🙂', 'text_b': None, 'label': 2},\n",
       " {'guid': 305, 'text_a': '耶', 'text_b': None, 'label': 1},\n",
       " {'guid': 306, 'text_a': '旅店很愛用的菲利浦吹風機(風力偏微弱)', 'text_b': None, 'label': 0},\n",
       " {'guid': 309, 'text_a': '→ SSCI95 : 搜了一下發現晶英國際行館非常高級耶..還有一層一間 12/26 10:27', 'text_b': None, 'label': 2},\n",
       " {'guid': 310, 'text_a': '我要旅展門票', 'text_b': None, 'label': 1},\n",
       " {'guid': 312, 'text_a': '2023 Happy New Year🥳🍺', 'text_b': None, 'label': 1},\n",
       " {'guid': 314, 'text_a': 'Max Lin 想去 想去 你也帶雪莉ㄑ', 'text_b': None, 'label': 1},\n",
       " {'guid': 320, 'text_a': 'MingYu Hsieh我要買10張', 'text_b': None, 'label': 1},\n",
       " {'guid': 324, 'text_a': '本來有點擔心漢來是高齡飯店，但看新聞報導好像2022年初才整修完', 'text_b': None, 'label': 2},\n",
       " {'guid': 326, 'text_a': '曹敏書 黑皮嘟嘟＆粉紅泡泡好可愛', 'text_b': None, 'label': 2},\n",
       " {'guid': 327, 'text_a': '非常抱歉，目前官網的畫面是因為座位全部訂滿，並不是系統出狀況。目前Papillon到九月底訂位已全滿，後續若有釋出座位，會在Papillon官網發布最新消息，謝謝大家的支持', 'text_b': None, 'label': 2},\n",
       " {'guid': 328, 'text_a': '1:38 看到我自己😍😍😍', 'text_b': None, 'label': 2},\n",
       " {'guid': 336, 'text_a': '好貴喔，那有純住房的價錢嗎？', 'text_b': None, 'label': 0},\n",
       " {'guid': 349, 'text_a': '營運時一定要順道去品嚐一下', 'text_b': None, 'label': 2},\n",
       " {'guid': 352, 'text_a': '不過舊館的評價就很兩極，我自己住過花蓮&淡水，淡水館偏老舊但勉強還可以，花蓮館', 'text_b': None, 'label': 0},\n",
       " {'guid': 353, 'text_a': 'Yvcçvb', 'text_b': None, 'label': 2},\n",
       " {'guid': 356, 'text_a': '情人節快樂❤️', 'text_b': None, 'label': 2},\n",
       " {'guid': 358, 'text_a': '劉靜駖  要不要來這吃飯', 'text_b': None, 'label': 2},\n",
       " {'guid': 360, 'text_a': '感謝 史考克 立即處理檢舉該公司 pumx 之事..', 'text_b': None, 'label': 0},\n",
       " {'guid': 369, 'text_a': '可以跟貴公司盡早安排飯店ｓｈｏｗｒｏｏｍ並簽訂Ｂ２Ｂ合約嗎？謝謝', 'text_b': None, 'label': 1},\n",
       " {'guid': 377, 'text_a': '黃秋惠 陳思吟 賴宜芳  一起成為承億酒店粉絲團首批粉絲', 'text_b': None, 'label': 1},\n",
       " {'guid': 384, 'text_a': ' 公共設施： 無', 'text_b': None, 'label': 0},\n",
       " {'guid': 385, 'text_a': '求旅展門票兩張', 'text_b': None, 'label': 2},\n",
       " {'guid': 392, 'text_a': '阿嬤地磚拉風', 'text_b': None, 'label': 2},\n",
       " {'guid': 398, 'text_a': '林俊宇Judy Huang', 'text_b': None, 'label': 1},\n",
       " {'guid': 399, 'text_a': '比較美中不足的地方是', 'text_b': None, 'label': 0},\n",
       " {'guid': 401, 'text_a': 'Check in後搭乘電梯準備上樓，今晚住在8樓，', 'text_b': None, 'label': 2},\n",
       " {'guid': 408, 'text_a': '一定要🙋🏻', 'text_b': None, 'label': 2},\n",
       " {'guid': 413, 'text_a': '訂起來', 'text_b': None, 'label': 2},\n",
       " {'guid': 419, 'text_a': '期待開幕 有預計時間嗎 😲', 'text_b': None, 'label': 2},\n",
       " {'guid': 421, 'text_a': '江佳宜一起去承億酒店度假⛱️', 'text_b': None, 'label': 2},\n",
       " {'guid': 425, 'text_a': '陳宥碩好高局😍😍', 'text_b': None, 'label': 1},\n",
       " {'guid': 439, 'text_a': '達陣+1 ,滿好訂', 'text_b': None, 'label': 1},\n",
       " {'guid': 440, 'text_a': '賀賀 【一起來去承億，一秒穿越到北宋！】', 'text_b': None, 'label': 1},\n",
       " {'guid': 447, 'text_a': '感謝 史考克 立即處理檢舉該公司 pumx 之事..', 'text_b': None, 'label': 0},\n",
       " {'guid': 451, 'text_a': '看到都餓了🥲', 'text_b': None, 'label': 2},\n",
       " {'guid': 452, 'text_a': 'Marie Liu Rita Lin 四人同行 撕嗎？😍', 'text_b': None, 'label': 1},\n",
       " {'guid': 456, 'text_a': '謝謝粉絲對承億酒店的支持，第五屆台灣最美飯店投票抽獎活動已結束。', 'text_b': None, 'label': 2},\n",
       " {'guid': 469, 'text_a': '王曉娟 一起來住承億酒店!!! \\u200b', 'text_b': None, 'label': 2},\n",
       " {'guid': 478, 'text_a': '1:38 看到我自己😍😍😍', 'text_b': None, 'label': 2},\n",
       " {'guid': 486, 'text_a': '另外一個比較重視的點則是 餐點品質，這點好像漢來比較優？', 'text_b': None, 'label': 0},\n",
       " {'guid': 492, 'text_a': '再五天', 'text_b': None, 'label': 2},\n",
       " {'guid': 504, 'text_a': '→ SSCI95 : 非常感謝大家建議~~ 12/26 10:20', 'text_b': None, 'label': 2},\n",
       " {'guid': 507, 'text_a': '看我神預測巴西隊得冠軍，來去承億享美食', 'text_b': None, 'label': 1},\n",
       " {'guid': 517, 'text_a': '哇! 這好像不錯 陳欣怡  \\u200b然後 1/1 去衛武營草地 聽維也納新年音樂會 🎼🎻🎺🎶🎵', 'text_b': None, 'label': 2},\n",
       " {'guid': 528, 'text_a': 'Tai一定很愛你', 'text_b': None, 'label': 2},\n",
       " {'guid': 531, 'text_a': '阿嬤地磚拉風', 'text_b': None, 'label': 2},\n",
       " {'guid': 537, 'text_a': 'Jimmy Wu 陳盈竹  在0：34時看到我要去那邊玩', 'text_b': None, 'label': 2},\n",
       " {'guid': 541, 'text_a': '羊要騎承億邀請妳😂', 'text_b': None, 'label': 1},\n",
       " {'guid': 548, 'text_a': '建議早起避開人潮最多的時候會比較好，', 'text_b': None, 'label': 1},\n",
       " {'guid': 562, 'text_a': '聖誕快樂💕', 'text_b': None, 'label': 1},\n",
       " {'guid': 563, 'text_a': '夏萌果  【一起來去承億，一秒穿越到北宋！】', 'text_b': None, 'label': 1},\n",
       " {'guid': 571, 'text_a': '馬上當', 'text_b': None, 'label': 0},\n",
       " {'guid': 578, 'text_a': '推 ring5611 : 看完版大推薦，訂了7999紫斑蝶，除了泳池沒開放， 12/31 19:19', 'text_b': None, 'label': 1},\n",
       " {'guid': 585, 'text_a': '習慣了那味道)', 'text_b': None, 'label': 0},\n",
       " {'guid': 586, 'text_a': '→ nyyatl : 爛，以上是八月份去住的心得 10/21 06:48', 'text_b': None, 'label': 0},\n",
       " {'guid': 589, 'text_a': 'Amy Hsieh 謝亞璇  該安排囉🤭', 'text_b': None, 'label': 2},\n",
       " {'guid': 597, 'text_a': '已訂到😉', 'text_b': None, 'label': 2},\n",
       " {'guid': 606, 'text_a': '高雄哈瑪星地區大樓林立', 'text_b': None, 'label': 2},\n",
       " {'guid': 614, 'text_a': '7點多時發現位置有空出後，老公趕緊去將車移過來這才放下心中大石。', 'text_b': None, 'label': 2},\n",
       " {'guid': 644, 'text_a': '泳池，三溫暖，攀岩，健身房', 'text_b': None, 'label': 2},\n",
       " {'guid': 659, 'text_a': '陳力瑋 一起來去承億，一秒穿越到北宋！', 'text_b': None, 'label': 1},\n",
       " {'guid': 665, 'text_a': '當機！真的這麼搶手', 'text_b': None, 'label': 2},\n",
       " {'guid': 683, 'text_a': 'Blackpink 來高雄不知道要漲多少🤭', 'text_b': None, 'label': 0},\n",
       " {'guid': 684, 'text_a': '錢珛琝  【一起來去承億，一秒穿越到北宋！】', 'text_b': None, 'label': 1},\n",
       " {'guid': 686, 'text_a': '還要多久呀？', 'text_b': None, 'label': 0},\n",
       " {'guid': 710, 'text_a': '我想作那spa', 'text_b': None, 'label': 2},\n",
       " {'guid': 714, 'text_a': '晚上看到這個肚子好餓！請問這次有線上旅展嗎？', 'text_b': None, 'label': 1},\n",
       " {'guid': 724, 'text_a': '好想吃喔 吳孟諴', 'text_b': None, 'label': 2},\n",
       " {'guid': 732, 'text_a': '→ terry910134 : 沒錯，隔天換去住康橋，除了設計比較保守，其餘完勝 05/13 18:09', 'text_b': None, 'label': 0},\n",
       " {'guid': 733, 'text_a': 'Blackpink 來高雄不知道要漲多少🤭', 'text_b': None, 'label': 0},\n",
       " {'guid': 737, 'text_a': '達陣+1 ,滿好訂', 'text_b': None, 'label': 1},\n",
       " {'guid': 740, 'text_a': '等待', 'text_b': None, 'label': 2},\n",
       " {'guid': 746, 'text_a': 'Myrna Huang黃筱鈞Rosa Wang一起去🍺', 'text_b': None, 'label': 2},\n",
       " {'guid': 753, 'text_a': 'Yi Chian Li Let’s go Let’s go', 'text_b': None, 'label': 1},\n",
       " {'guid': 761, 'text_a': '我要旅展門票', 'text_b': None, 'label': 1},\n",
       " {'guid': 762, 'text_a': '另外晚上六點過後在泳池周邊還有預約制的酒吧，我就沒體驗了。', 'text_b': None, 'label': 1},\n",
       " {'guid': 769, 'text_a': '陳焌騰 馬姿羽 黃心柔一起成為承億酒店粉絲團首批粉絲', 'text_b': None, 'label': 1},\n",
       " {'guid': 770, 'text_a': '懷舊老街', 'text_b': None, 'label': 1},\n",
       " {'guid': 773, 'text_a': '敲碗中', 'text_b': None, 'label': 2},\n",
       " {'guid': 778, 'text_a': '羊要騎承億邀請妳😂', 'text_b': None, 'label': 1},\n",
       " {'guid': 782, 'text_a': '李瑋萱【一起來去承億，一秒穿越到北宋！】', 'text_b': None, 'label': 1}]"
      ]
     },
     "execution_count": 21,
     "metadata": {},
     "output_type": "execute_result"
    }
   ],
   "source": [
    "wrong_predictions"
   ]
  },
  {
   "cell_type": "code",
   "execution_count": 22,
   "id": "55c458e0",
   "metadata": {},
   "outputs": [
    {
     "data": {
      "application/vnd.jupyter.widget-view+json": {
       "model_id": "4bc8fdd42a0143cba3bb1cfb8ff06b92",
       "version_major": 2,
       "version_minor": 0
      },
      "text/plain": [
       "  0%|          | 0/1 [00:00<?, ?it/s]"
      ]
     },
     "metadata": {},
     "output_type": "display_data"
    },
    {
     "name": "stdout",
     "output_type": "stream",
     "text": [
      "Intel MKL WARNING: Support of Intel(R) Streaming SIMD Extensions 4.2 (Intel(R) SSE4.2) enabled only processors has been deprecated. Intel oneAPI Math Kernel Library 2025.0 will require Intel(R) Advanced Vector Extensions (Intel(R) AVX) instructions.\n",
      "Intel MKL WARNING: Support of Intel(R) Streaming SIMD Extensions 4.2 (Intel(R) SSE4.2) enabled only processors has been deprecated. Intel oneAPI Math Kernel Library 2025.0 will require Intel(R) Advanced Vector Extensions (Intel(R) AVX) instructions.\n",
      "huggingface/tokenizers: The current process just got forked, after parallelism has already been used. Disabling parallelism to avoid deadlocks...\n",
      "To disable this warning, you can either:\n",
      "\t- Avoid using `tokenizers` before the fork if possible\n",
      "\t- Explicitly set the environment variable TOKENIZERS_PARALLELISM=(true | false)\n"
     ]
    },
    {
     "data": {
      "application/vnd.jupyter.widget-view+json": {
       "model_id": "fc887b95cd284db5805ff4ebe7dfcb8d",
       "version_major": 2,
       "version_minor": 0
      },
      "text/plain": [
       "  0%|          | 0/1 [00:00<?, ?it/s]"
      ]
     },
     "metadata": {},
     "output_type": "display_data"
    }
   ],
   "source": [
    "predictions, raw_outputs = model.predict([\"返回看板\"])"
   ]
  },
  {
   "cell_type": "code",
   "execution_count": 23,
   "id": "f7405a93",
   "metadata": {},
   "outputs": [
    {
     "data": {
      "text/plain": [
       "(array([2]), array([[-1.73732722, -1.31275749,  2.97749186]]))"
      ]
     },
     "execution_count": 23,
     "metadata": {},
     "output_type": "execute_result"
    }
   ],
   "source": [
    "predictions, raw_outputs"
   ]
  },
  {
   "cell_type": "code",
   "execution_count": 24,
   "id": "d020e202",
   "metadata": {},
   "outputs": [
    {
     "data": {
      "application/vnd.jupyter.widget-view+json": {
       "model_id": "fce25cb2fd4c4f529afd0b77616e7c7d",
       "version_major": 2,
       "version_minor": 0
      },
      "text/plain": [
       "  0%|          | 0/1 [00:00<?, ?it/s]"
      ]
     },
     "metadata": {},
     "output_type": "display_data"
    },
    {
     "name": "stdout",
     "output_type": "stream",
     "text": [
      "Intel MKL WARNING: Support of Intel(R) Streaming SIMD Extensions 4.2 (Intel(R) SSE4.2) enabled only processors has been deprecated. Intel oneAPI Math Kernel Library 2025.0 will require Intel(R) Advanced Vector Extensions (Intel(R) AVX) instructions.\n",
      "Intel MKL WARNING: Support of Intel(R) Streaming SIMD Extensions 4.2 (Intel(R) SSE4.2) enabled only processors has been deprecated. Intel oneAPI Math Kernel Library 2025.0 will require Intel(R) Advanced Vector Extensions (Intel(R) AVX) instructions.\n",
      "huggingface/tokenizers: The current process just got forked, after parallelism has already been used. Disabling parallelism to avoid deadlocks...\n",
      "To disable this warning, you can either:\n",
      "\t- Avoid using `tokenizers` before the fork if possible\n",
      "\t- Explicitly set the environment variable TOKENIZERS_PARALLELISM=(true | false)\n"
     ]
    },
    {
     "data": {
      "application/vnd.jupyter.widget-view+json": {
       "model_id": "1232dfa9c6704c87baacf2cada0dd273",
       "version_major": 2,
       "version_minor": 0
      },
      "text/plain": [
       "  0%|          | 0/1 [00:00<?, ?it/s]"
      ]
     },
     "metadata": {},
     "output_type": "display_data"
    },
    {
     "name": "stdout",
     "output_type": "stream",
     "text": [
      "[2] [[-2.38299966 -1.09384716  3.08790612]]\n"
     ]
    }
   ],
   "source": [
    "predictions, raw_outputs = model.predict([\"批踢踢實業坊\"])\n",
    "print(predictions, raw_outputs)"
   ]
  },
  {
   "cell_type": "code",
   "execution_count": 25,
   "id": "212dc2fd",
   "metadata": {},
   "outputs": [
    {
     "data": {
      "application/vnd.jupyter.widget-view+json": {
       "model_id": "b57f4e42cca14980b4053c9d32b8f87c",
       "version_major": 2,
       "version_minor": 0
      },
      "text/plain": [
       "  0%|          | 0/1 [00:00<?, ?it/s]"
      ]
     },
     "metadata": {},
     "output_type": "display_data"
    },
    {
     "name": "stdout",
     "output_type": "stream",
     "text": [
      "Intel MKL WARNING: Support of Intel(R) Streaming SIMD Extensions 4.2 (Intel(R) SSE4.2) enabled only processors has been deprecated. Intel oneAPI Math Kernel Library 2025.0 will require Intel(R) Advanced Vector Extensions (Intel(R) AVX) instructions.\n",
      "Intel MKL WARNING: Support of Intel(R) Streaming SIMD Extensions 4.2 (Intel(R) SSE4.2) enabled only processors has been deprecated. Intel oneAPI Math Kernel Library 2025.0 will require Intel(R) Advanced Vector Extensions (Intel(R) AVX) instructions.\n",
      "huggingface/tokenizers: The current process just got forked, after parallelism has already been used. Disabling parallelism to avoid deadlocks...\n",
      "To disable this warning, you can either:\n",
      "\t- Avoid using `tokenizers` before the fork if possible\n",
      "\t- Explicitly set the environment variable TOKENIZERS_PARALLELISM=(true | false)\n"
     ]
    },
    {
     "data": {
      "application/vnd.jupyter.widget-view+json": {
       "model_id": "e51ff9600d3244c59825fab2b26c44ee",
       "version_major": 2,
       "version_minor": 0
      },
      "text/plain": [
       "  0%|          | 0/1 [00:00<?, ?it/s]"
      ]
     },
     "metadata": {},
     "output_type": "display_data"
    },
    {
     "name": "stdout",
     "output_type": "stream",
     "text": [
      "[2] [[-2.17934942 -0.48965362  2.66915941]]\n"
     ]
    }
   ],
   "source": [
    "predictions, raw_outputs = model.predict([\"看板 Hotel\"])\n",
    "print(predictions, raw_outputs)"
   ]
  },
  {
   "cell_type": "code",
   "execution_count": 26,
   "id": "395e19af",
   "metadata": {},
   "outputs": [
    {
     "data": {
      "application/vnd.jupyter.widget-view+json": {
       "model_id": "037d050bb21246a08f8666e49dd32fdd",
       "version_major": 2,
       "version_minor": 0
      },
      "text/plain": [
       "  0%|          | 0/1 [00:00<?, ?it/s]"
      ]
     },
     "metadata": {},
     "output_type": "display_data"
    },
    {
     "name": "stdout",
     "output_type": "stream",
     "text": [
      "Intel MKL WARNING: Support of Intel(R) Streaming SIMD Extensions 4.2 (Intel(R) SSE4.2) enabled only processors has been deprecated. Intel oneAPI Math Kernel Library 2025.0 will require Intel(R) Advanced Vector Extensions (Intel(R) AVX) instructions.\n",
      "Intel MKL WARNING: Support of Intel(R) Streaming SIMD Extensions 4.2 (Intel(R) SSE4.2) enabled only processors has been deprecated. Intel oneAPI Math Kernel Library 2025.0 will require Intel(R) Advanced Vector Extensions (Intel(R) AVX) instructions.\n",
      "huggingface/tokenizers: The current process just got forked, after parallelism has already been used. Disabling parallelism to avoid deadlocks...\n",
      "To disable this warning, you can either:\n",
      "\t- Avoid using `tokenizers` before the fork if possible\n",
      "\t- Explicitly set the environment variable TOKENIZERS_PARALLELISM=(true | false)\n"
     ]
    },
    {
     "data": {
      "application/vnd.jupyter.widget-view+json": {
       "model_id": "5e5926ed1e554f04b423f33ab04b7ef8",
       "version_major": 2,
       "version_minor": 0
      },
      "text/plain": [
       "  0%|          | 0/1 [00:00<?, ?it/s]"
      ]
     },
     "metadata": {},
     "output_type": "display_data"
    },
    {
     "name": "stdout",
     "output_type": "stream",
     "text": [
      "[2] [[-2.47247267 -0.68931413  3.18780804]]\n"
     ]
    }
   ],
   "source": [
    "predictions, raw_outputs = model.predict([\"[心得]『花蓮』承億文旅 花蓮山知道 - 看板 Hotel - 批踢踢實業坊\"])\n",
    "print(predictions, raw_outputs)"
   ]
  },
  {
   "cell_type": "code",
   "execution_count": 27,
   "id": "5b9de239",
   "metadata": {},
   "outputs": [
    {
     "data": {
      "application/vnd.jupyter.widget-view+json": {
       "model_id": "11374eaa6e25476ab11a59c68b07971d",
       "version_major": 2,
       "version_minor": 0
      },
      "text/plain": [
       "  0%|          | 0/1 [00:00<?, ?it/s]"
      ]
     },
     "metadata": {},
     "output_type": "display_data"
    },
    {
     "name": "stdout",
     "output_type": "stream",
     "text": [
      "Intel MKL WARNING: Support of Intel(R) Streaming SIMD Extensions 4.2 (Intel(R) SSE4.2) enabled only processors has been deprecated. Intel oneAPI Math Kernel Library 2025.0 will require Intel(R) Advanced Vector Extensions (Intel(R) AVX) instructions.\n",
      "Intel MKL WARNING: Support of Intel(R) Streaming SIMD Extensions 4.2 (Intel(R) SSE4.2) enabled only processors has been deprecated. Intel oneAPI Math Kernel Library 2025.0 will require Intel(R) Advanced Vector Extensions (Intel(R) AVX) instructions.\n",
      "huggingface/tokenizers: The current process just got forked, after parallelism has already been used. Disabling parallelism to avoid deadlocks...\n",
      "To disable this warning, you can either:\n",
      "\t- Avoid using `tokenizers` before the fork if possible\n",
      "\t- Explicitly set the environment variable TOKENIZERS_PARALLELISM=(true | false)\n"
     ]
    },
    {
     "data": {
      "application/vnd.jupyter.widget-view+json": {
       "model_id": "03079150583c4fe1b179ae98acde82cc",
       "version_major": 2,
       "version_minor": 0
      },
      "text/plain": [
       "  0%|          | 0/1 [00:00<?, ?it/s]"
      ]
     },
     "metadata": {},
     "output_type": "display_data"
    },
    {
     "name": "stdout",
     "output_type": "stream",
     "text": [
      "[2] [[-2.03892732 -1.45114982  3.40002394]]\n"
     ]
    }
   ],
   "source": [
    "predictions, raw_outputs = model.predict([\"※ 文章網址: https://www.ptt.cc/bbs/Hotel/M.1520174622.A.C0C.html\"])\n",
    "print(predictions, raw_outputs)"
   ]
  },
  {
   "cell_type": "code",
   "execution_count": 28,
   "id": "f1c77497",
   "metadata": {},
   "outputs": [
    {
     "data": {
      "application/vnd.jupyter.widget-view+json": {
       "model_id": "deddff753d594b1b83bc1271b7380778",
       "version_major": 2,
       "version_minor": 0
      },
      "text/plain": [
       "  0%|          | 0/1 [00:00<?, ?it/s]"
      ]
     },
     "metadata": {},
     "output_type": "display_data"
    },
    {
     "name": "stdout",
     "output_type": "stream",
     "text": [
      "Intel MKL WARNING: Support of Intel(R) Streaming SIMD Extensions 4.2 (Intel(R) SSE4.2) enabled only processors has been deprecated. Intel oneAPI Math Kernel Library 2025.0 will require Intel(R) Advanced Vector Extensions (Intel(R) AVX) instructions.\n",
      "Intel MKL WARNING: Support of Intel(R) Streaming SIMD Extensions 4.2 (Intel(R) SSE4.2) enabled only processors has been deprecated. Intel oneAPI Math Kernel Library 2025.0 will require Intel(R) Advanced Vector Extensions (Intel(R) AVX) instructions.\n",
      "huggingface/tokenizers: The current process just got forked, after parallelism has already been used. Disabling parallelism to avoid deadlocks...\n",
      "To disable this warning, you can either:\n",
      "\t- Avoid using `tokenizers` before the fork if possible\n",
      "\t- Explicitly set the environment variable TOKENIZERS_PARALLELISM=(true | false)\n"
     ]
    },
    {
     "data": {
      "application/vnd.jupyter.widget-view+json": {
       "model_id": "513a239509054bc097e9ee917af843bb",
       "version_major": 2,
       "version_minor": 0
      },
      "text/plain": [
       "  0%|          | 0/1 [00:00<?, ?it/s]"
      ]
     },
     "metadata": {},
     "output_type": "display_data"
    },
    {
     "name": "stdout",
     "output_type": "stream",
     "text": [
      "[2] [[-1.56739247 -1.59126449  3.14962721]]\n"
     ]
    }
   ],
   "source": [
    "predictions, raw_outputs = model.predict([\"作者SSCI95 (Be the One)看板Hotel標題[請益] 高雄 漢來vs承億酒店時間Fri Dec 23 08:50:01 2022\"])\n",
    "print(predictions, raw_outputs)"
   ]
  },
  {
   "cell_type": "code",
   "execution_count": 29,
   "id": "d4a2c63a",
   "metadata": {},
   "outputs": [
    {
     "data": {
      "application/vnd.jupyter.widget-view+json": {
       "model_id": "26d5186771124425b9d0efc0d34ad1f1",
       "version_major": 2,
       "version_minor": 0
      },
      "text/plain": [
       "  0%|          | 0/1 [00:00<?, ?it/s]"
      ]
     },
     "metadata": {},
     "output_type": "display_data"
    },
    {
     "name": "stdout",
     "output_type": "stream",
     "text": [
      "Intel MKL WARNING: Support of Intel(R) Streaming SIMD Extensions 4.2 (Intel(R) SSE4.2) enabled only processors has been deprecated. Intel oneAPI Math Kernel Library 2025.0 will require Intel(R) Advanced Vector Extensions (Intel(R) AVX) instructions.\n",
      "Intel MKL WARNING: Support of Intel(R) Streaming SIMD Extensions 4.2 (Intel(R) SSE4.2) enabled only processors has been deprecated. Intel oneAPI Math Kernel Library 2025.0 will require Intel(R) Advanced Vector Extensions (Intel(R) AVX) instructions.\n",
      "huggingface/tokenizers: The current process just got forked, after parallelism has already been used. Disabling parallelism to avoid deadlocks...\n",
      "To disable this warning, you can either:\n",
      "\t- Avoid using `tokenizers` before the fork if possible\n",
      "\t- Explicitly set the environment variable TOKENIZERS_PARALLELISM=(true | false)\n"
     ]
    },
    {
     "data": {
      "application/vnd.jupyter.widget-view+json": {
       "model_id": "52344f55d6ec46d583c6923bfc1407d5",
       "version_major": 2,
       "version_minor": 0
      },
      "text/plain": [
       "  0%|          | 0/1 [00:00<?, ?it/s]"
      ]
     },
     "metadata": {},
     "output_type": "display_data"
    },
    {
     "name": "stdout",
     "output_type": "stream",
     "text": [
      "[1] [[-1.78799522  2.73965883 -1.21996403]]\n"
     ]
    }
   ],
   "source": [
    "predictions, raw_outputs = model.predict([\"住宿地點還不錯，騎自行車過去，還有地放放置我的自行車，讚\"])\n",
    "print(predictions, raw_outputs)\n"
   ]
  },
  {
   "cell_type": "code",
   "execution_count": 30,
   "id": "6237da8e",
   "metadata": {},
   "outputs": [
    {
     "data": {
      "application/vnd.jupyter.widget-view+json": {
       "model_id": "c6007fc463464e44a2878763a2d23de9",
       "version_major": 2,
       "version_minor": 0
      },
      "text/plain": [
       "  0%|          | 0/1 [00:00<?, ?it/s]"
      ]
     },
     "metadata": {},
     "output_type": "display_data"
    },
    {
     "name": "stdout",
     "output_type": "stream",
     "text": [
      "Intel MKL WARNING: Support of Intel(R) Streaming SIMD Extensions 4.2 (Intel(R) SSE4.2) enabled only processors has been deprecated. Intel oneAPI Math Kernel Library 2025.0 will require Intel(R) Advanced Vector Extensions (Intel(R) AVX) instructions.\n",
      "Intel MKL WARNING: Support of Intel(R) Streaming SIMD Extensions 4.2 (Intel(R) SSE4.2) enabled only processors has been deprecated. Intel oneAPI Math Kernel Library 2025.0 will require Intel(R) Advanced Vector Extensions (Intel(R) AVX) instructions.\n",
      "huggingface/tokenizers: The current process just got forked, after parallelism has already been used. Disabling parallelism to avoid deadlocks...\n",
      "To disable this warning, you can either:\n",
      "\t- Avoid using `tokenizers` before the fork if possible\n",
      "\t- Explicitly set the environment variable TOKENIZERS_PARALLELISM=(true | false)\n"
     ]
    },
    {
     "data": {
      "application/vnd.jupyter.widget-view+json": {
       "model_id": "ce0201f311dc47cb81d0dc965b4d176d",
       "version_major": 2,
       "version_minor": 0
      },
      "text/plain": [
       "  0%|          | 0/1 [00:00<?, ?it/s]"
      ]
     },
     "metadata": {},
     "output_type": "display_data"
    },
    {
     "name": "stdout",
     "output_type": "stream",
     "text": [
      "[1] [[-2.23757839  2.75786614 -1.12318349]]\n"
     ]
    }
   ],
   "source": [
    "predictions, raw_outputs = model.predict([\"房間很棒，讓人放鬆，下次還會願意選擇這裡\"])\n",
    "print(predictions, raw_outputs)"
   ]
  },
  {
   "cell_type": "code",
   "execution_count": 31,
   "id": "a81ef9b4",
   "metadata": {},
   "outputs": [
    {
     "data": {
      "application/vnd.jupyter.widget-view+json": {
       "model_id": "44383727adcf4db481a2da491f2cd831",
       "version_major": 2,
       "version_minor": 0
      },
      "text/plain": [
       "  0%|          | 0/1 [00:00<?, ?it/s]"
      ]
     },
     "metadata": {},
     "output_type": "display_data"
    },
    {
     "name": "stdout",
     "output_type": "stream",
     "text": [
      "Intel MKL WARNING: Support of Intel(R) Streaming SIMD Extensions 4.2 (Intel(R) SSE4.2) enabled only processors has been deprecated. Intel oneAPI Math Kernel Library 2025.0 will require Intel(R) Advanced Vector Extensions (Intel(R) AVX) instructions.\n",
      "Intel MKL WARNING: Support of Intel(R) Streaming SIMD Extensions 4.2 (Intel(R) SSE4.2) enabled only processors has been deprecated. Intel oneAPI Math Kernel Library 2025.0 will require Intel(R) Advanced Vector Extensions (Intel(R) AVX) instructions.\n",
      "huggingface/tokenizers: The current process just got forked, after parallelism has already been used. Disabling parallelism to avoid deadlocks...\n",
      "To disable this warning, you can either:\n",
      "\t- Avoid using `tokenizers` before the fork if possible\n",
      "\t- Explicitly set the environment variable TOKENIZERS_PARALLELISM=(true | false)\n"
     ]
    },
    {
     "data": {
      "application/vnd.jupyter.widget-view+json": {
       "model_id": "2fb4596dee6c4e16827561392e26e562",
       "version_major": 2,
       "version_minor": 0
      },
      "text/plain": [
       "  0%|          | 0/1 [00:00<?, ?it/s]"
      ]
     },
     "metadata": {},
     "output_type": "display_data"
    },
    {
     "name": "stdout",
     "output_type": "stream",
     "text": [
      "[0] [[ 1.0680896  -1.08189273  0.39942449]]\n"
     ]
    }
   ],
   "source": [
    "predictions, raw_outputs = model.predict([\"承億價格不符\"])\n",
    "print(predictions, raw_outputs)"
   ]
  },
  {
   "cell_type": "code",
   "execution_count": 32,
   "id": "f3163052",
   "metadata": {},
   "outputs": [
    {
     "data": {
      "application/vnd.jupyter.widget-view+json": {
       "model_id": "44a23e8e95c0458f88578bf3c392e589",
       "version_major": 2,
       "version_minor": 0
      },
      "text/plain": [
       "  0%|          | 0/1 [00:00<?, ?it/s]"
      ]
     },
     "metadata": {},
     "output_type": "display_data"
    },
    {
     "name": "stdout",
     "output_type": "stream",
     "text": [
      "Intel MKL WARNING: Support of Intel(R) Streaming SIMD Extensions 4.2 (Intel(R) SSE4.2) enabled only processors has been deprecated. Intel oneAPI Math Kernel Library 2025.0 will require Intel(R) Advanced Vector Extensions (Intel(R) AVX) instructions.\n",
      "Intel MKL WARNING: Support of Intel(R) Streaming SIMD Extensions 4.2 (Intel(R) SSE4.2) enabled only processors has been deprecated. Intel oneAPI Math Kernel Library 2025.0 will require Intel(R) Advanced Vector Extensions (Intel(R) AVX) instructions.\n",
      "huggingface/tokenizers: The current process just got forked, after parallelism has already been used. Disabling parallelism to avoid deadlocks...\n",
      "To disable this warning, you can either:\n",
      "\t- Avoid using `tokenizers` before the fork if possible\n",
      "\t- Explicitly set the environment variable TOKENIZERS_PARALLELISM=(true | false)\n"
     ]
    },
    {
     "data": {
      "application/vnd.jupyter.widget-view+json": {
       "model_id": "5e2be24f6a82498887b349a23a427136",
       "version_major": 2,
       "version_minor": 0
      },
      "text/plain": [
       "  0%|          | 0/1 [00:00<?, ?it/s]"
      ]
     },
     "metadata": {},
     "output_type": "display_data"
    },
    {
     "name": "stdout",
     "output_type": "stream",
     "text": [
      "[0] [[ 2.66620183 -0.9918648  -0.86844993]]\n"
     ]
    }
   ],
   "source": [
    "predictions, raw_outputs = model.predict([\"單純不論價格的話選承億 但承億那價格太離譜\"])\n",
    "print(predictions, raw_outputs)"
   ]
  },
  {
   "cell_type": "code",
   "execution_count": 33,
   "id": "ba1f4111",
   "metadata": {},
   "outputs": [
    {
     "data": {
      "application/vnd.jupyter.widget-view+json": {
       "model_id": "3b601e4e9dd44a17a3294370f519168b",
       "version_major": 2,
       "version_minor": 0
      },
      "text/plain": [
       "  0%|          | 0/1 [00:00<?, ?it/s]"
      ]
     },
     "metadata": {},
     "output_type": "display_data"
    },
    {
     "name": "stdout",
     "output_type": "stream",
     "text": [
      "Intel MKL WARNING: Support of Intel(R) Streaming SIMD Extensions 4.2 (Intel(R) SSE4.2) enabled only processors has been deprecated. Intel oneAPI Math Kernel Library 2025.0 will require Intel(R) Advanced Vector Extensions (Intel(R) AVX) instructions.\n",
      "Intel MKL WARNING: Support of Intel(R) Streaming SIMD Extensions 4.2 (Intel(R) SSE4.2) enabled only processors has been deprecated. Intel oneAPI Math Kernel Library 2025.0 will require Intel(R) Advanced Vector Extensions (Intel(R) AVX) instructions.\n",
      "huggingface/tokenizers: The current process just got forked, after parallelism has already been used. Disabling parallelism to avoid deadlocks...\n",
      "To disable this warning, you can either:\n",
      "\t- Avoid using `tokenizers` before the fork if possible\n",
      "\t- Explicitly set the environment variable TOKENIZERS_PARALLELISM=(true | false)\n"
     ]
    },
    {
     "data": {
      "application/vnd.jupyter.widget-view+json": {
       "model_id": "06490697856845edad0ddff9d946bf95",
       "version_major": 2,
       "version_minor": 0
      },
      "text/plain": [
       "  0%|          | 0/1 [00:00<?, ?it/s]"
      ]
     },
     "metadata": {},
     "output_type": "display_data"
    },
    {
     "name": "stdout",
     "output_type": "stream",
     "text": [
      "[1] [[-1.81393862  2.5613277  -1.05347538]]\n"
     ]
    }
   ],
   "source": [
    "predictions, raw_outputs = model.predict([\"嘉義舊市區蠻適合騎腳踏車的，騎著腳踏車去找美食很方便，飯店可提供租借喔\"])\n",
    "print(predictions, raw_outputs)"
   ]
  },
  {
   "cell_type": "code",
   "execution_count": 34,
   "id": "c07633f9",
   "metadata": {},
   "outputs": [
    {
     "data": {
      "application/vnd.jupyter.widget-view+json": {
       "model_id": "bd91e920d00a4929b8d3e3a4c0ba5e2d",
       "version_major": 2,
       "version_minor": 0
      },
      "text/plain": [
       "  0%|          | 0/1 [00:00<?, ?it/s]"
      ]
     },
     "metadata": {},
     "output_type": "display_data"
    },
    {
     "name": "stdout",
     "output_type": "stream",
     "text": [
      "Intel MKL WARNING: Support of Intel(R) Streaming SIMD Extensions 4.2 (Intel(R) SSE4.2) enabled only processors has been deprecated. Intel oneAPI Math Kernel Library 2025.0 will require Intel(R) Advanced Vector Extensions (Intel(R) AVX) instructions.\n",
      "Intel MKL WARNING: Support of Intel(R) Streaming SIMD Extensions 4.2 (Intel(R) SSE4.2) enabled only processors has been deprecated. Intel oneAPI Math Kernel Library 2025.0 will require Intel(R) Advanced Vector Extensions (Intel(R) AVX) instructions.\n",
      "huggingface/tokenizers: The current process just got forked, after parallelism has already been used. Disabling parallelism to avoid deadlocks...\n",
      "To disable this warning, you can either:\n",
      "\t- Avoid using `tokenizers` before the fork if possible\n",
      "\t- Explicitly set the environment variable TOKENIZERS_PARALLELISM=(true | false)\n"
     ]
    },
    {
     "data": {
      "application/vnd.jupyter.widget-view+json": {
       "model_id": "27507a5234bc4b26b026ad532eb5d0b8",
       "version_major": 2,
       "version_minor": 0
      },
      "text/plain": [
       "  0%|          | 0/1 [00:00<?, ?it/s]"
      ]
     },
     "metadata": {},
     "output_type": "display_data"
    },
    {
     "name": "stdout",
     "output_type": "stream",
     "text": [
      "[2] [[-3.35809112  0.73472756  2.27117157]]\n"
     ]
    }
   ],
   "source": [
    "predictions, raw_outputs = model.predict([\"李瑋萱【一起來去承億，一秒穿越到北宋！】\"])\n",
    "print(predictions, raw_outputs)"
   ]
  },
  {
   "cell_type": "code",
   "execution_count": 36,
   "id": "93d65f27",
   "metadata": {},
   "outputs": [
    {
     "data": {
      "application/vnd.jupyter.widget-view+json": {
       "model_id": "2e0fcc77750a480aa03eee8dc28240c1",
       "version_major": 2,
       "version_minor": 0
      },
      "text/plain": [
       "  0%|          | 0/1 [00:00<?, ?it/s]"
      ]
     },
     "metadata": {},
     "output_type": "display_data"
    },
    {
     "name": "stdout",
     "output_type": "stream",
     "text": [
      "Intel MKL WARNING: Support of Intel(R) Streaming SIMD Extensions 4.2 (Intel(R) SSE4.2) enabled only processors has been deprecated. Intel oneAPI Math Kernel Library 2025.0 will require Intel(R) Advanced Vector Extensions (Intel(R) AVX) instructions.\n",
      "Intel MKL WARNING: Support of Intel(R) Streaming SIMD Extensions 4.2 (Intel(R) SSE4.2) enabled only processors has been deprecated. Intel oneAPI Math Kernel Library 2025.0 will require Intel(R) Advanced Vector Extensions (Intel(R) AVX) instructions.\n",
      "huggingface/tokenizers: The current process just got forked, after parallelism has already been used. Disabling parallelism to avoid deadlocks...\n",
      "To disable this warning, you can either:\n",
      "\t- Avoid using `tokenizers` before the fork if possible\n",
      "\t- Explicitly set the environment variable TOKENIZERS_PARALLELISM=(true | false)\n"
     ]
    },
    {
     "data": {
      "application/vnd.jupyter.widget-view+json": {
       "model_id": "623ec37c9bfe4b55af7bce8f6f248697",
       "version_major": 2,
       "version_minor": 0
      },
      "text/plain": [
       "  0%|          | 0/1 [00:00<?, ?it/s]"
      ]
     },
     "metadata": {},
     "output_type": "display_data"
    },
    {
     "name": "stdout",
     "output_type": "stream",
     "text": [
      "[0] [[ 2.15613556 -1.10396349 -0.66159523]]\n"
     ]
    }
   ],
   "source": [
    "predictions, raw_outputs = model.predict([\"對於嚴重損害Norin著作權，台中鳳凰酒店指出，將撤除親子客房壁紙\"])\n",
    "print(predictions, raw_outputs)"
   ]
  },
  {
   "cell_type": "code",
   "execution_count": null,
   "id": "1d348393",
   "metadata": {},
   "outputs": [],
   "source": [
    "predictions, raw_outputs = model.predict([\"\"])\n",
    "print(predictions, raw_outputs)"
   ]
  },
  {
   "cell_type": "code",
   "execution_count": null,
   "id": "9fd62e63",
   "metadata": {},
   "outputs": [],
   "source": [
    "predictions, raw_outputs = model.predict([\"\"])\n",
    "print(predictions, raw_outputs)"
   ]
  },
  {
   "cell_type": "code",
   "execution_count": null,
   "id": "3926691e",
   "metadata": {},
   "outputs": [],
   "source": [
    "predictions, raw_outputs = model.predict([\"\"])\n",
    "print(predictions, raw_outputs)"
   ]
  },
  {
   "cell_type": "code",
   "execution_count": null,
   "id": "17155104",
   "metadata": {},
   "outputs": [],
   "source": [
    "predictions, raw_outputs = model.predict([\"\"])\n",
    "print(predictions, raw_outputs)"
   ]
  }
 ],
 "metadata": {
  "kernelspec": {
   "display_name": "Python 3 (ipykernel)",
   "language": "python",
   "name": "python3"
  },
  "language_info": {
   "codemirror_mode": {
    "name": "ipython",
    "version": 3
   },
   "file_extension": ".py",
   "mimetype": "text/x-python",
   "name": "python",
   "nbconvert_exporter": "python",
   "pygments_lexer": "ipython3",
   "version": "3.11.3"
  }
 },
 "nbformat": 4,
 "nbformat_minor": 5
}
