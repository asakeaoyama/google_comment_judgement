{
 "cells": [
  {
   "cell_type": "code",
   "execution_count": 6,
   "id": "f75021af",
   "metadata": {
    "ExecuteTime": {
     "start_time": "2023-11-13T13:58:15.492422Z",
     "end_time": "2023-11-13T13:58:15.533236Z"
    }
   },
   "outputs": [],
   "source": [
    "import pandas as pd"
   ]
  },
  {
   "cell_type": "code",
   "execution_count": 7,
   "id": "529d4f6a",
   "metadata": {
    "ExecuteTime": {
     "start_time": "2023-11-13T13:57:43.669530Z",
     "end_time": "2023-11-13T13:57:44.678922Z"
    }
   },
   "outputs": [
    {
     "ename": "FileNotFoundError",
     "evalue": "[Errno 2] No such file or directory: '正負無效句訓練.xlsx'",
     "output_type": "error",
     "traceback": [
      "\u001B[0;31m---------------------------------------------------------------------------\u001B[0m",
      "\u001B[0;31mFileNotFoundError\u001B[0m                         Traceback (most recent call last)",
      "Cell \u001B[0;32mIn[7], line 1\u001B[0m\n\u001B[0;32m----> 1\u001B[0m reviews_df_1 \u001B[38;5;241m=\u001B[39m \u001B[43mpd\u001B[49m\u001B[38;5;241;43m.\u001B[39;49m\u001B[43mread_excel\u001B[49m\u001B[43m(\u001B[49m\u001B[38;5;124;43m\"\u001B[39;49m\u001B[38;5;124;43m正負無效句訓練.xlsx\u001B[39;49m\u001B[38;5;124;43m\"\u001B[39;49m\u001B[43m)\u001B[49m\n\u001B[1;32m      2\u001B[0m reviews_df_1 \u001B[38;5;241m=\u001B[39m reviews_df_1\u001B[38;5;241m.\u001B[39miloc[\u001B[38;5;241m1\u001B[39m: , :]\n\u001B[1;32m      3\u001B[0m reviews_df_1[\u001B[38;5;124m'\u001B[39m\u001B[38;5;124mlabels\u001B[39m\u001B[38;5;124m'\u001B[39m] \u001B[38;5;241m=\u001B[39m reviews_df_1[\u001B[38;5;124m'\u001B[39m\u001B[38;5;124mUnnamed: 2\u001B[39m\u001B[38;5;124m'\u001B[39m]\u001B[38;5;241m.\u001B[39mreplace({\u001B[38;5;124m'\u001B[39m\u001B[38;5;124m正面\u001B[39m\u001B[38;5;124m'\u001B[39m:\u001B[38;5;241m1\u001B[39m, \u001B[38;5;124m'\u001B[39m\u001B[38;5;124m負面\u001B[39m\u001B[38;5;124m'\u001B[39m: \u001B[38;5;241m0\u001B[39m, \u001B[38;5;124m'\u001B[39m\u001B[38;5;124m無效\u001B[39m\u001B[38;5;124m'\u001B[39m:\u001B[38;5;241m2\u001B[39m})\n",
      "File \u001B[0;32m~/anaconda3/envs/google-comment/lib/python3.11/site-packages/pandas/io/excel/_base.py:478\u001B[0m, in \u001B[0;36mread_excel\u001B[0;34m(io, sheet_name, header, names, index_col, usecols, dtype, engine, converters, true_values, false_values, skiprows, nrows, na_values, keep_default_na, na_filter, verbose, parse_dates, date_parser, date_format, thousands, decimal, comment, skipfooter, storage_options, dtype_backend)\u001B[0m\n\u001B[1;32m    476\u001B[0m \u001B[38;5;28;01mif\u001B[39;00m \u001B[38;5;129;01mnot\u001B[39;00m \u001B[38;5;28misinstance\u001B[39m(io, ExcelFile):\n\u001B[1;32m    477\u001B[0m     should_close \u001B[38;5;241m=\u001B[39m \u001B[38;5;28;01mTrue\u001B[39;00m\n\u001B[0;32m--> 478\u001B[0m     io \u001B[38;5;241m=\u001B[39m \u001B[43mExcelFile\u001B[49m\u001B[43m(\u001B[49m\u001B[43mio\u001B[49m\u001B[43m,\u001B[49m\u001B[43m \u001B[49m\u001B[43mstorage_options\u001B[49m\u001B[38;5;241;43m=\u001B[39;49m\u001B[43mstorage_options\u001B[49m\u001B[43m,\u001B[49m\u001B[43m \u001B[49m\u001B[43mengine\u001B[49m\u001B[38;5;241;43m=\u001B[39;49m\u001B[43mengine\u001B[49m\u001B[43m)\u001B[49m\n\u001B[1;32m    479\u001B[0m \u001B[38;5;28;01melif\u001B[39;00m engine \u001B[38;5;129;01mand\u001B[39;00m engine \u001B[38;5;241m!=\u001B[39m io\u001B[38;5;241m.\u001B[39mengine:\n\u001B[1;32m    480\u001B[0m     \u001B[38;5;28;01mraise\u001B[39;00m \u001B[38;5;167;01mValueError\u001B[39;00m(\n\u001B[1;32m    481\u001B[0m         \u001B[38;5;124m\"\u001B[39m\u001B[38;5;124mEngine should not be specified when passing \u001B[39m\u001B[38;5;124m\"\u001B[39m\n\u001B[1;32m    482\u001B[0m         \u001B[38;5;124m\"\u001B[39m\u001B[38;5;124man ExcelFile - ExcelFile already has the engine set\u001B[39m\u001B[38;5;124m\"\u001B[39m\n\u001B[1;32m    483\u001B[0m     )\n",
      "File \u001B[0;32m~/anaconda3/envs/google-comment/lib/python3.11/site-packages/pandas/io/excel/_base.py:1496\u001B[0m, in \u001B[0;36mExcelFile.__init__\u001B[0;34m(self, path_or_buffer, engine, storage_options)\u001B[0m\n\u001B[1;32m   1494\u001B[0m     ext \u001B[38;5;241m=\u001B[39m \u001B[38;5;124m\"\u001B[39m\u001B[38;5;124mxls\u001B[39m\u001B[38;5;124m\"\u001B[39m\n\u001B[1;32m   1495\u001B[0m \u001B[38;5;28;01melse\u001B[39;00m:\n\u001B[0;32m-> 1496\u001B[0m     ext \u001B[38;5;241m=\u001B[39m \u001B[43minspect_excel_format\u001B[49m\u001B[43m(\u001B[49m\n\u001B[1;32m   1497\u001B[0m \u001B[43m        \u001B[49m\u001B[43mcontent_or_path\u001B[49m\u001B[38;5;241;43m=\u001B[39;49m\u001B[43mpath_or_buffer\u001B[49m\u001B[43m,\u001B[49m\u001B[43m \u001B[49m\u001B[43mstorage_options\u001B[49m\u001B[38;5;241;43m=\u001B[39;49m\u001B[43mstorage_options\u001B[49m\n\u001B[1;32m   1498\u001B[0m \u001B[43m    \u001B[49m\u001B[43m)\u001B[49m\n\u001B[1;32m   1499\u001B[0m     \u001B[38;5;28;01mif\u001B[39;00m ext \u001B[38;5;129;01mis\u001B[39;00m \u001B[38;5;28;01mNone\u001B[39;00m:\n\u001B[1;32m   1500\u001B[0m         \u001B[38;5;28;01mraise\u001B[39;00m \u001B[38;5;167;01mValueError\u001B[39;00m(\n\u001B[1;32m   1501\u001B[0m             \u001B[38;5;124m\"\u001B[39m\u001B[38;5;124mExcel file format cannot be determined, you must specify \u001B[39m\u001B[38;5;124m\"\u001B[39m\n\u001B[1;32m   1502\u001B[0m             \u001B[38;5;124m\"\u001B[39m\u001B[38;5;124man engine manually.\u001B[39m\u001B[38;5;124m\"\u001B[39m\n\u001B[1;32m   1503\u001B[0m         )\n",
      "File \u001B[0;32m~/anaconda3/envs/google-comment/lib/python3.11/site-packages/pandas/io/excel/_base.py:1371\u001B[0m, in \u001B[0;36minspect_excel_format\u001B[0;34m(content_or_path, storage_options)\u001B[0m\n\u001B[1;32m   1368\u001B[0m \u001B[38;5;28;01mif\u001B[39;00m \u001B[38;5;28misinstance\u001B[39m(content_or_path, \u001B[38;5;28mbytes\u001B[39m):\n\u001B[1;32m   1369\u001B[0m     content_or_path \u001B[38;5;241m=\u001B[39m BytesIO(content_or_path)\n\u001B[0;32m-> 1371\u001B[0m \u001B[38;5;28;01mwith\u001B[39;00m \u001B[43mget_handle\u001B[49m\u001B[43m(\u001B[49m\n\u001B[1;32m   1372\u001B[0m \u001B[43m    \u001B[49m\u001B[43mcontent_or_path\u001B[49m\u001B[43m,\u001B[49m\u001B[43m \u001B[49m\u001B[38;5;124;43m\"\u001B[39;49m\u001B[38;5;124;43mrb\u001B[39;49m\u001B[38;5;124;43m\"\u001B[39;49m\u001B[43m,\u001B[49m\u001B[43m \u001B[49m\u001B[43mstorage_options\u001B[49m\u001B[38;5;241;43m=\u001B[39;49m\u001B[43mstorage_options\u001B[49m\u001B[43m,\u001B[49m\u001B[43m \u001B[49m\u001B[43mis_text\u001B[49m\u001B[38;5;241;43m=\u001B[39;49m\u001B[38;5;28;43;01mFalse\u001B[39;49;00m\n\u001B[1;32m   1373\u001B[0m \u001B[43m\u001B[49m\u001B[43m)\u001B[49m \u001B[38;5;28;01mas\u001B[39;00m handle:\n\u001B[1;32m   1374\u001B[0m     stream \u001B[38;5;241m=\u001B[39m handle\u001B[38;5;241m.\u001B[39mhandle\n\u001B[1;32m   1375\u001B[0m     stream\u001B[38;5;241m.\u001B[39mseek(\u001B[38;5;241m0\u001B[39m)\n",
      "File \u001B[0;32m~/anaconda3/envs/google-comment/lib/python3.11/site-packages/pandas/io/common.py:868\u001B[0m, in \u001B[0;36mget_handle\u001B[0;34m(path_or_buf, mode, encoding, compression, memory_map, is_text, errors, storage_options)\u001B[0m\n\u001B[1;32m    859\u001B[0m         handle \u001B[38;5;241m=\u001B[39m \u001B[38;5;28mopen\u001B[39m(\n\u001B[1;32m    860\u001B[0m             handle,\n\u001B[1;32m    861\u001B[0m             ioargs\u001B[38;5;241m.\u001B[39mmode,\n\u001B[0;32m   (...)\u001B[0m\n\u001B[1;32m    864\u001B[0m             newline\u001B[38;5;241m=\u001B[39m\u001B[38;5;124m\"\u001B[39m\u001B[38;5;124m\"\u001B[39m,\n\u001B[1;32m    865\u001B[0m         )\n\u001B[1;32m    866\u001B[0m     \u001B[38;5;28;01melse\u001B[39;00m:\n\u001B[1;32m    867\u001B[0m         \u001B[38;5;66;03m# Binary mode\u001B[39;00m\n\u001B[0;32m--> 868\u001B[0m         handle \u001B[38;5;241m=\u001B[39m \u001B[38;5;28;43mopen\u001B[39;49m\u001B[43m(\u001B[49m\u001B[43mhandle\u001B[49m\u001B[43m,\u001B[49m\u001B[43m \u001B[49m\u001B[43mioargs\u001B[49m\u001B[38;5;241;43m.\u001B[39;49m\u001B[43mmode\u001B[49m\u001B[43m)\u001B[49m\n\u001B[1;32m    869\u001B[0m     handles\u001B[38;5;241m.\u001B[39mappend(handle)\n\u001B[1;32m    871\u001B[0m \u001B[38;5;66;03m# Convert BytesIO or file objects passed with an encoding\u001B[39;00m\n",
      "\u001B[0;31mFileNotFoundError\u001B[0m: [Errno 2] No such file or directory: '正負無效句訓練.xlsx'"
     ]
    }
   ],
   "source": [
    "reviews_df_1 = pd.read_excel(\"正負無效句訓練.xlsx\")\n",
    "reviews_df_1 = reviews_df_1.iloc[1: , :]\n",
    "reviews_df_1['labels'] = reviews_df_1['Unnamed: 2'].replace({'正面':1, '負面': 0, '無效':2})\n",
    "reviews_df_1['reviews'] = reviews_df_1['Unnamed: 1']\n",
    "reviews_df_1 = reviews_df_1[['reviews', 'labels']]"
   ]
  },
  {
   "cell_type": "code",
   "execution_count": null,
   "id": "6940960f",
   "metadata": {},
   "outputs": [],
   "source": [
    "reviews_df_2 = pd.read_excel(\"正負無效句訓練2.xlsx\")\n",
    "reviews_df_2['labels'] = reviews_df_2['0731new(0：負評，1：正評，2：無效)'].replace({'1':1, '0': 0, '2':2})\n",
    "reviews_df_2['reviews'] = reviews_df_2['comment_message']\n",
    "reviews_df_2 = reviews_df_2[['reviews', 'labels']]\n",
    "reviews_df_2 = reviews_df_2.dropna()\n",
    "reviews_df_2['labels'] = reviews_df_2['labels'].astype('int')"
   ]
  },
  {
   "cell_type": "code",
   "execution_count": null,
   "id": "91c52761",
   "metadata": {},
   "outputs": [],
   "source": [
    "reviews_df_1"
   ]
  },
  {
   "cell_type": "code",
   "execution_count": null,
   "id": "af16dbc9",
   "metadata": {},
   "outputs": [],
   "source": [
    "reviews_df_2"
   ]
  },
  {
   "cell_type": "code",
   "execution_count": null,
   "id": "571a66d6",
   "metadata": {},
   "outputs": [],
   "source": [
    "reviews_df_1.shape"
   ]
  },
  {
   "cell_type": "code",
   "execution_count": null,
   "id": "be989ac5",
   "metadata": {},
   "outputs": [],
   "source": [
    "reviews_df_1.dtypes"
   ]
  },
  {
   "cell_type": "code",
   "execution_count": null,
   "id": "8950c854",
   "metadata": {},
   "outputs": [],
   "source": [
    "reviews_df_2.shape"
   ]
  },
  {
   "cell_type": "code",
   "execution_count": null,
   "id": "d6761de2",
   "metadata": {},
   "outputs": [],
   "source": [
    "reviews_df_2.dtypes"
   ]
  },
  {
   "cell_type": "code",
   "execution_count": null,
   "id": "6109f8e2",
   "metadata": {},
   "outputs": [],
   "source": [
    "reviews_df=pd.concat([reviews_df_1,reviews_df_2])"
   ]
  },
  {
   "cell_type": "code",
   "execution_count": null,
   "id": "165805b0",
   "metadata": {},
   "outputs": [],
   "source": [
    "reviews_df.dtypes"
   ]
  },
  {
   "cell_type": "code",
   "execution_count": null,
   "id": "fef48e76",
   "metadata": {},
   "outputs": [],
   "source": [
    "reviews_df['labels'].value_counts().plot(kind='bar')"
   ]
  },
  {
   "cell_type": "code",
   "execution_count": null,
   "id": "bd104bc5",
   "metadata": {},
   "outputs": [],
   "source": [
    "bad_df = reviews_df[reviews_df['labels'] ==0]\n",
    "bad_df.shape"
   ]
  },
  {
   "cell_type": "code",
   "execution_count": null,
   "id": "c8623942",
   "metadata": {},
   "outputs": [],
   "source": [
    "good_df = reviews_df[reviews_df['labels'] ==1]\n",
    "good_df.shape"
   ]
  },
  {
   "cell_type": "code",
   "execution_count": null,
   "id": "64adff90",
   "metadata": {},
   "outputs": [],
   "source": [
    "invalid_df = reviews_df[reviews_df['labels'] ==2]\n",
    "invalid_df.shape"
   ]
  },
  {
   "cell_type": "code",
   "execution_count": null,
   "id": "e6995ec1",
   "metadata": {},
   "outputs": [],
   "source": [
    "from sklearn.model_selection import train_test_split\n",
    "train_df, test_df = train_test_split(reviews_df, test_size = 0.2, random_state = 927)"
   ]
  },
  {
   "cell_type": "code",
   "execution_count": null,
   "id": "8f01c982",
   "metadata": {},
   "outputs": [],
   "source": [
    "train_df"
   ]
  },
  {
   "cell_type": "code",
   "execution_count": null,
   "id": "5ff708af",
   "metadata": {},
   "outputs": [],
   "source": [
    "test_df"
   ]
  },
  {
   "cell_type": "code",
   "execution_count": null,
   "id": "ef364368",
   "metadata": {
    "scrolled": true
   },
   "outputs": [],
   "source": [
    "from simpletransformers.classification import ClassificationModel\n",
    "#?ClassificationModel\n",
    "model = ClassificationModel('bert', 'hfl/chinese-bert-wwm-ext', num_labels=3, use_cuda=False)\n",
    "model.train_model(train_df, args = {'overwrite_output_dir': False})"
   ]
  },
  {
   "cell_type": "code",
   "execution_count": null,
   "id": "1611c053",
   "metadata": {},
   "outputs": [],
   "source": [
    "result, model_output, wrong_predictions = model.eval_model(test_df)\n",
    "result"
   ]
  },
  {
   "cell_type": "code",
   "execution_count": null,
   "id": "6c15f28a",
   "metadata": {},
   "outputs": [],
   "source": [
    "wrong_predictions"
   ]
  },
  {
   "cell_type": "code",
   "execution_count": null,
   "id": "55c458e0",
   "metadata": {},
   "outputs": [],
   "source": [
    "predictions, raw_outputs = model.predict([\"返回看板\"])"
   ]
  },
  {
   "cell_type": "code",
   "execution_count": null,
   "id": "f7405a93",
   "metadata": {},
   "outputs": [],
   "source": [
    "predictions, raw_outputs"
   ]
  },
  {
   "cell_type": "code",
   "execution_count": null,
   "id": "d020e202",
   "metadata": {},
   "outputs": [],
   "source": [
    "predictions, raw_outputs = model.predict([\"批踢踢實業坊\"])\n",
    "print(predictions, raw_outputs)"
   ]
  },
  {
   "cell_type": "code",
   "execution_count": null,
   "id": "212dc2fd",
   "metadata": {},
   "outputs": [],
   "source": [
    "predictions, raw_outputs = model.predict([\"看板 Hotel\"])\n",
    "print(predictions, raw_outputs)"
   ]
  },
  {
   "cell_type": "code",
   "execution_count": null,
   "id": "395e19af",
   "metadata": {},
   "outputs": [],
   "source": [
    "predictions, raw_outputs = model.predict([\"[心得]『花蓮』承億文旅 花蓮山知道 - 看板 Hotel - 批踢踢實業坊\"])\n",
    "print(predictions, raw_outputs)"
   ]
  },
  {
   "cell_type": "code",
   "execution_count": null,
   "id": "5b9de239",
   "metadata": {},
   "outputs": [],
   "source": [
    "predictions, raw_outputs = model.predict([\"※ 文章網址: https://www.ptt.cc/bbs/Hotel/M.1520174622.A.C0C.html\"])\n",
    "print(predictions, raw_outputs)"
   ]
  },
  {
   "cell_type": "code",
   "execution_count": null,
   "id": "f1c77497",
   "metadata": {},
   "outputs": [],
   "source": [
    "predictions, raw_outputs = model.predict([\"作者SSCI95 (Be the One)看板Hotel標題[請益] 高雄 漢來vs承億酒店時間Fri Dec 23 08:50:01 2022\"])\n",
    "print(predictions, raw_outputs)"
   ]
  },
  {
   "cell_type": "code",
   "execution_count": null,
   "id": "d4a2c63a",
   "metadata": {},
   "outputs": [],
   "source": [
    "predictions, raw_outputs = model.predict([\"住宿地點還不錯，騎自行車過去，還有地放放置我的自行車，讚\"])\n",
    "print(predictions, raw_outputs)\n"
   ]
  },
  {
   "cell_type": "code",
   "execution_count": null,
   "id": "6237da8e",
   "metadata": {},
   "outputs": [],
   "source": [
    "predictions, raw_outputs = model.predict([\"房間很棒，讓人放鬆，下次還會願意選擇這裡\"])\n",
    "print(predictions, raw_outputs)"
   ]
  },
  {
   "cell_type": "code",
   "execution_count": null,
   "id": "a81ef9b4",
   "metadata": {},
   "outputs": [],
   "source": [
    "predictions, raw_outputs = model.predict([\"承億價格不符\"])\n",
    "print(predictions, raw_outputs)"
   ]
  },
  {
   "cell_type": "code",
   "execution_count": null,
   "id": "f3163052",
   "metadata": {},
   "outputs": [],
   "source": [
    "predictions, raw_outputs = model.predict([\"單純不論價格的話選承億 但承億那價格太離譜\"])\n",
    "print(predictions, raw_outputs)"
   ]
  },
  {
   "cell_type": "code",
   "execution_count": null,
   "id": "ba1f4111",
   "metadata": {},
   "outputs": [],
   "source": [
    "predictions, raw_outputs = model.predict([\"嘉義舊市區蠻適合騎腳踏車的，騎著腳踏車去找美食很方便，飯店可提供租借喔\"])\n",
    "print(predictions, raw_outputs)"
   ]
  },
  {
   "cell_type": "code",
   "execution_count": null,
   "id": "c07633f9",
   "metadata": {},
   "outputs": [],
   "source": [
    "predictions, raw_outputs = model.predict([\"李瑋萱【一起來去承億，一秒穿越到北宋！】\"])\n",
    "print(predictions, raw_outputs)"
   ]
  },
  {
   "cell_type": "code",
   "execution_count": null,
   "id": "93d65f27",
   "metadata": {},
   "outputs": [],
   "source": [
    "predictions, raw_outputs = model.predict([\"對於嚴重損害Norin著作權，台中鳳凰酒店指出，將撤除親子客房壁紙\"])\n",
    "print(predictions, raw_outputs)"
   ]
  },
  {
   "cell_type": "code",
   "execution_count": null,
   "id": "1d348393",
   "metadata": {},
   "outputs": [],
   "source": [
    "predictions, raw_outputs = model.predict([\"\"])\n",
    "print(predictions, raw_outputs)"
   ]
  },
  {
   "cell_type": "code",
   "execution_count": null,
   "id": "9fd62e63",
   "metadata": {},
   "outputs": [],
   "source": [
    "predictions, raw_outputs = model.predict([\"\"])\n",
    "print(predictions, raw_outputs)"
   ]
  },
  {
   "cell_type": "code",
   "execution_count": null,
   "id": "3926691e",
   "metadata": {},
   "outputs": [],
   "source": [
    "predictions, raw_outputs = model.predict([\"\"])\n",
    "print(predictions, raw_outputs)"
   ]
  },
  {
   "cell_type": "code",
   "execution_count": null,
   "id": "17155104",
   "metadata": {},
   "outputs": [],
   "source": [
    "predictions, raw_outputs = model.predict([\"\"])\n",
    "print(predictions, raw_outputs)"
   ]
  }
 ],
 "metadata": {
  "kernelspec": {
   "display_name": "Python 3 (ipykernel)",
   "language": "python",
   "name": "python3"
  },
  "language_info": {
   "codemirror_mode": {
    "name": "ipython",
    "version": 3
   },
   "file_extension": ".py",
   "mimetype": "text/x-python",
   "name": "python",
   "nbconvert_exporter": "python",
   "pygments_lexer": "ipython3",
   "version": "3.11.3"
  }
 },
 "nbformat": 4,
 "nbformat_minor": 5
}
